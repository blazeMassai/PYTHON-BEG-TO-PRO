{
 "cells": [
  {
   "cell_type": "markdown",
   "id": "771be4be",
   "metadata": {},
   "source": [
    "# Random Numbers in NumPy"
   ]
  },
  {
   "cell_type": "markdown",
   "id": "c48236e7",
   "metadata": {},
   "source": [
    "# What is a Random Number?\n",
    "Random number does NOT mean a different number every time. Random means something that can not\n",
    "be predicted logically.\n",
    "\n",
    "#Pseudo Random and True Random.\n",
    "Computers work on programs, and programs are definitive set of instructions. So it means there must be\n",
    "some algorithm to generate a random number as well.\n",
    "If there is a program to generate random number it can be predicted, thus it is not truly random.\n",
    "Random numbers generated through a generation algorithm are called pseudo random .\n",
    "Can we make truly random numbers?\n",
    "Yes. In order to generate a truly random number on our computers we need to get the random data from\n",
    "some outside source. This outside source is generally our keystrokes, mouse movements, data on network\n",
    "etc.\n",
    "We do not need truly random numbers, unless its related to security (e.g. encryption keys) or the basis of\n",
    "application is the randomness (e.g. Digital roulette wheels).\n",
    "In this tutorial we will be using pseudo random numbers."
   ]
  },
  {
   "cell_type": "code",
   "execution_count": 6,
   "id": "c599d229",
   "metadata": {},
   "outputs": [
    {
     "name": "stdout",
     "output_type": "stream",
     "text": [
      "97\n",
      "0.22645526955788797\n",
      "[0.80322715 0.98026153 0.98114013 0.53192428 0.86828203]\n"
     ]
    }
   ],
   "source": [
    "from numpy import random\n",
    "x=random.randint(100)\n",
    "print(x)\n",
    "\n",
    "#Generate a random float from 0 to 1:\n",
    "y = random.rand()\n",
    "\n",
    "#float with size\n",
    "y1=random.rand(5)\n",
    "\n",
    "print(y)\n",
    "print(y1)"
   ]
  },
  {
   "cell_type": "code",
   "execution_count": 3,
   "id": "5defe118",
   "metadata": {},
   "outputs": [
    {
     "name": "stdout",
     "output_type": "stream",
     "text": [
      "[82 93 15 21 21]\n"
     ]
    }
   ],
   "source": [
    "#Generate Random Array\n",
    "#The randint( ) method takes a siz e parameter where you can specify the shape of an array\n",
    "# below we Generate a 1-D array containing 5 random integers from 0 to 100:\n",
    "x_array=random.randint(100 , size=(5 ))\n",
    "print(x_array)"
   ]
  },
  {
   "cell_type": "code",
   "execution_count": 5,
   "id": "085d9f18",
   "metadata": {},
   "outputs": [
    {
     "name": "stdout",
     "output_type": "stream",
     "text": [
      "[[84 14 72 24 83]\n",
      " [21  4 99 21 84]\n",
      " [58 25 38 53 87]]\n"
     ]
    }
   ],
   "source": [
    "#Generate a 2-D array with 3 rows, each row containing 5 random integers from 0 to 100:\n",
    "\n",
    "x1=random.randint(100, size=(3,5))\n",
    "print(x1)"
   ]
  },
  {
   "cell_type": "markdown",
   "id": "d7830720",
   "metadata": {},
   "source": [
    "# Generate Random Number From Array"
   ]
  },
  {
   "cell_type": "code",
   "execution_count": 8,
   "id": "23b182ee",
   "metadata": {},
   "outputs": [
    {
     "name": "stdout",
     "output_type": "stream",
     "text": [
      "3\n",
      "[[ 3 21 20  1  1]\n",
      " [ 3 21  1 20  1]\n",
      " [ 1  3 20 20 34]]\n"
     ]
    }
   ],
   "source": [
    "#The choice( ) method allows you to generate a random value based on an array of values.\n",
    "\n",
    "a=random.choice([3,5,7,9])\n",
    "print(a)\n",
    "\n",
    "#Add a siz e parameter to specify the shape of the array.\n",
    "a1=random.choice([1,3,20,21,34], size=(3,5))\n",
    "print(a1)"
   ]
  }
 ],
 "metadata": {
  "kernelspec": {
   "display_name": "Python 3 (ipykernel)",
   "language": "python",
   "name": "python3"
  },
  "language_info": {
   "codemirror_mode": {
    "name": "ipython",
    "version": 3
   },
   "file_extension": ".py",
   "mimetype": "text/x-python",
   "name": "python",
   "nbconvert_exporter": "python",
   "pygments_lexer": "ipython3",
   "version": "3.10.4"
  }
 },
 "nbformat": 4,
 "nbformat_minor": 5
}
