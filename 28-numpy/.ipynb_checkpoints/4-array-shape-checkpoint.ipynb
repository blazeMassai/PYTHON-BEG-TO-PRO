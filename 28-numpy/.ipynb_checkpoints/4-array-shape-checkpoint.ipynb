{
 "cells": [
  {
   "cell_type": "code",
   "execution_count": 1,
   "id": "ac0d3047",
   "metadata": {},
   "outputs": [],
   "source": [
    "import numpy as np\n",
    "\n",
    "#NUMPY ARRAY SHAPE"
   ]
  },
  {
   "cell_type": "code",
   "execution_count": 2,
   "id": "9d52ff03",
   "metadata": {},
   "outputs": [
    {
     "name": "stdout",
     "output_type": "stream",
     "text": [
      "(2, 4)\n"
     ]
    }
   ],
   "source": [
    "a=np.array([[1,2,3,4],[5,6,7,8]])\n",
    "#return 2,4 which means the array has 2dimension and each has 4 elements\n",
    "print(a.shape)"
   ]
  },
  {
   "cell_type": "markdown",
   "id": "0da09a4b",
   "metadata": {},
   "source": [
    "CREATE AN ARRAY WITH 5 DIM USING NDMIN USING A VECTOR WITH VALUES 1,2,3,4 AND VERIFY THAT THE LAST DIMENSION HAS VALUE 4"
   ]
  },
  {
   "cell_type": "code",
   "execution_count": 22,
   "id": "a6a91a9d",
   "metadata": {},
   "outputs": [
    {
     "name": "stdout",
     "output_type": "stream",
     "text": [
      "[[[[[ 1  2  3  4  5  6 17]]]]]\n",
      "The shape of array b is:  (1, 1, 1, 1, 7)\n",
      "The shape of array test is:  (5, 4)\n",
      "[[5 6 7 8]\n",
      " [5 6 7 8]\n",
      " [5 6 7 8]\n",
      " [5 6 7 8]\n",
      " [5 6 7 8]]\n"
     ]
    }
   ],
   "source": [
    "import numpy as np\n",
    "\n",
    "b=np.array([1,2,3,4], ndmin=5)\n",
    "print(b)\n",
    "print('The shape of array b is: ',b.shape)\n",
    "\n",
    "test=np.array([[5,6,7,8],[5,6,7,8],[5,6,7,8],[5,6,7,8],[5,6,7,8]])\n",
    "print('The shape of array test is: ',test.shape)\n",
    "print(test)"
   ]
  },
  {
   "cell_type": "markdown",
   "id": "3dc49d23",
   "metadata": {},
   "source": [
    "RESHAPING NP ARRAYS: RESHAPING MEASNS CHANGING THE SHAPE OF AN ARRAY. THE SAHPE OF AN ARRAY IS THE NUMBER OF ELEMENTS IN EACH DIMENSION"
   ]
  },
  {
   "cell_type": "code",
   "execution_count": 30,
   "id": "bb43c865",
   "metadata": {},
   "outputs": [
    {
     "name": "stdout",
     "output_type": "stream",
     "text": [
      "array C is:  [1 2 3 4 5 6 7 8]\n",
      "[[1 2 3 4]\n",
      " [5 6 7 8]]\n",
      "[1 2 3 4 5 6 7 8]\n"
     ]
    }
   ],
   "source": [
    "#convert a 1-d arr to 2-d\n",
    "c=np.array([1,2,3,4,5,6,7,8])\n",
    "d=c.reshape(2,4)\n",
    "print('array C is: ',c)\n",
    "print(d)\n",
    "print(d.base)"
   ]
  },
  {
   "cell_type": "markdown",
   "id": "53893783",
   "metadata": {},
   "source": [
    "UNKNOWN DIMENSION\n",
    "You do not have to specify the number of dimension in the reshape"
   ]
  },
  {
   "cell_type": "code",
   "execution_count": 35,
   "id": "166fe146",
   "metadata": {},
   "outputs": [
    {
     "name": "stdout",
     "output_type": "stream",
     "text": [
      "[1 2 3 4 5 6 7 8]\n"
     ]
    }
   ],
   "source": [
    "e=c.reshape(-1)\n",
    "print(e)"
   ]
  },
  {
   "cell_type": "code",
   "execution_count": 40,
   "id": "b9cb84d2",
   "metadata": {},
   "outputs": [
    {
     "name": "stdout",
     "output_type": "stream",
     "text": [
      "[[[1 2]\n",
      "  [3 4]]\n",
      "\n",
      " [[5 6]\n",
      "  [7 8]]]\n"
     ]
    }
   ],
   "source": [
    "f=c.reshape(2,2,-1)\n",
    "print(f)"
   ]
  },
  {
   "cell_type": "markdown",
   "id": "6c6a78c2",
   "metadata": {},
   "source": [
    "FLATTENING THE ARRAYS. FLATTENING MEANS CONVERTING A MULTIDIMENSIONAL ARRAY INTO A 1D"
   ]
  },
  {
   "cell_type": "code",
   "execution_count": 41,
   "id": "a4b50c9c",
   "metadata": {},
   "outputs": [
    {
     "name": "stdout",
     "output_type": "stream",
     "text": [
      "[1 2 3 4 5 6 7 8]\n"
     ]
    }
   ],
   "source": [
    "g=c.reshape(-1)\n",
    "print(g)"
   ]
  }
 ],
 "metadata": {
  "kernelspec": {
   "display_name": "Python 3 (ipykernel)",
   "language": "python",
   "name": "python3"
  },
  "language_info": {
   "codemirror_mode": {
    "name": "ipython",
    "version": 3
   },
   "file_extension": ".py",
   "mimetype": "text/x-python",
   "name": "python",
   "nbconvert_exporter": "python",
   "pygments_lexer": "ipython3",
   "version": "3.10.4"
  }
 },
 "nbformat": 4,
 "nbformat_minor": 5
}
