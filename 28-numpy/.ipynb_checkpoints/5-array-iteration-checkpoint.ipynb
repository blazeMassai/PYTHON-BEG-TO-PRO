{
 "cells": [
  {
   "cell_type": "code",
   "execution_count": 1,
   "id": "0ea2b77c",
   "metadata": {},
   "outputs": [],
   "source": [
    "import numpy as np"
   ]
  },
  {
   "cell_type": "code",
   "execution_count": 2,
   "id": "80721080",
   "metadata": {},
   "outputs": [
    {
     "name": "stdout",
     "output_type": "stream",
     "text": [
      "1\n",
      "2\n",
      "3\n",
      "4\n"
     ]
    }
   ],
   "source": [
    "#iterate on the elements\n",
    "\n",
    "a=np.array([1,2,3,4])\n",
    "for i in a:\n",
    "    print (i)"
   ]
  },
  {
   "cell_type": "code",
   "execution_count": 3,
   "id": "e0edbf0d",
   "metadata": {},
   "outputs": [
    {
     "name": "stdout",
     "output_type": "stream",
     "text": [
      "[1 2 3 4 5]\n",
      "[ 6  7  8  9 10]\n"
     ]
    }
   ],
   "source": [
    "#iterating 2d arrays\n",
    "\n",
    "b=np.array([[1,2,3,4,5,],[6,7,8,9,10]])\n",
    "for i in b:\n",
    "    print (i)"
   ]
  },
  {
   "cell_type": "code",
   "execution_count": 5,
   "id": "5be4ccce",
   "metadata": {},
   "outputs": [
    {
     "name": "stdout",
     "output_type": "stream",
     "text": [
      "[[[ 1  2  3  4]\n",
      "  [ 5  6  7  8]]\n",
      "\n",
      " [[ 9 10 11 12]\n",
      "  [13 14 15 16]]]\n",
      "1\n",
      "2\n",
      "3\n",
      "4\n",
      "5\n",
      "6\n",
      "7\n",
      "8\n",
      "9\n",
      "10\n",
      "11\n",
      "12\n",
      "13\n",
      "14\n",
      "15\n",
      "16\n"
     ]
    }
   ],
   "source": [
    "#iterating to return the actual values the scalars, we have to iterate the array in each dimension\n",
    "\n",
    "c=np.array([[[1,2,3,4],[5,6,7,8]],[[9,10,11,12],[13,14,15,16]]])\n",
    "print(c)\n",
    "for x in c:\n",
    "    for y in x:\n",
    "        for z in y:\n",
    "            print(z)"
   ]
  },
  {
   "cell_type": "markdown",
   "id": "ce79df87",
   "metadata": {},
   "source": [
    "#ITERATING ARRAYS USING NDITER()\n",
    "NDITER is a helping function that can be used from very basic to very advanced iterations. It solves some basic issues which we face in iteration, lets go through it with examples."
   ]
  },
  {
   "cell_type": "code",
   "execution_count": 10,
   "id": "fcc94eee",
   "metadata": {},
   "outputs": [
    {
     "name": "stdout",
     "output_type": "stream",
     "text": [
      "1\n",
      "2\n",
      "13\n",
      "14\n",
      "5\n",
      "6\n",
      "7\n",
      "8\n"
     ]
    }
   ],
   "source": [
    "d=np.array([[[1,2],[13,14]],[[5,6],[7,8]]])\n",
    "for i in np.nditer(d):\n",
    "    print(i)"
   ]
  },
  {
   "cell_type": "markdown",
   "id": "b1c86827",
   "metadata": {},
   "source": [
    "#we can use op_dtype to change the datatype of the elements while iterating.\n",
    "#numpy doesn't change the dtype of the element in place, so it needs some other space to perform this action, that extra space is called buffer. So we pass flags=['buffered']"
   ]
  },
  {
   "cell_type": "code",
   "execution_count": 13,
   "id": "4b6affad",
   "metadata": {},
   "outputs": [
    {
     "name": "stdout",
     "output_type": "stream",
     "text": [
      "b'1'\n",
      "b'2'\n",
      "b'3'\n"
     ]
    }
   ],
   "source": [
    "ab=np.array([1,2,3])\n",
    "for i in np.nditer(ab,flags=['buffered'],op_dtypes=['S']):\n",
    "    print(i)"
   ]
  },
  {
   "cell_type": "code",
   "execution_count": 14,
   "id": "e4d61102",
   "metadata": {},
   "outputs": [
    {
     "name": "stdout",
     "output_type": "stream",
     "text": [
      "1\n",
      "3\n",
      "5\n",
      "6\n",
      "8\n",
      "10\n"
     ]
    }
   ],
   "source": [
    "#we can use filtering followed by iteration\n",
    "#iterate thru every scalar element of the 2d array skipping 1 element\n",
    "bc=np.array([[1,2,3,4,5,],[6,7,8,9,10]])\n",
    "\n",
    "for i in np.nditer(bc[:,::2]):\n",
    "    print(i)"
   ]
  }
 ],
 "metadata": {
  "kernelspec": {
   "display_name": "Python 3 (ipykernel)",
   "language": "python",
   "name": "python3"
  },
  "language_info": {
   "codemirror_mode": {
    "name": "ipython",
    "version": 3
   },
   "file_extension": ".py",
   "mimetype": "text/x-python",
   "name": "python",
   "nbconvert_exporter": "python",
   "pygments_lexer": "ipython3",
   "version": "3.10.4"
  }
 },
 "nbformat": 4,
 "nbformat_minor": 5
}
