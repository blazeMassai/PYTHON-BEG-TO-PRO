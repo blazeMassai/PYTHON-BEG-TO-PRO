{
 "cells": [
  {
   "cell_type": "code",
   "execution_count": 2,
   "id": "f66edb2d",
   "metadata": {},
   "outputs": [],
   "source": [
    "import numpy as np"
   ]
  },
  {
   "cell_type": "code",
   "execution_count": 6,
   "id": "06fb1bc3",
   "metadata": {},
   "outputs": [
    {
     "name": "stdout",
     "output_type": "stream",
     "text": [
      "[7 8 9]\n",
      "[3 8]\n",
      "[[2 3 4]\n",
      " [7 8 9]]\n"
     ]
    }
   ],
   "source": [
    "arr=np.array([[1,2,3,4,5,],[6,7,8,9,10]])\n",
    "print(arr[1,1:4])\n",
    "#for both elements return index 2\n",
    "print(arr[0:2,2])\n",
    "#for both elements slice index 1 to 4(not included)\n",
    "print(arr[0:2,1:4])"
   ]
  },
  {
   "cell_type": "markdown",
   "id": "f1c3b5a8",
   "metadata": {},
   "source": [
    "#NUMPY DATA TYPES"
   ]
  },
  {
   "cell_type": "markdown",
   "id": "b1130051",
   "metadata": {},
   "source": [
    "#NUMPY HAS SOME EXTRA DATATYPES APART FROM THE NATIVE DT TYPES OF PYTHON\n",
    "#i-INT, b-BOOLEAN, u-UNSIGNED INT, f-FLOAT, c-COMPL FLOAT, m-TIMEDELTA, M-DATETIME, O-OBJECT, S-STRING, U-UNICODE STRING, V -FIXED CHUNK OF MEMORY FOR OTHER TYPE(VOID) "
   ]
  },
  {
   "cell_type": "code",
   "execution_count": 9,
   "id": "9a2e2e57",
   "metadata": {},
   "outputs": [],
   "source": [
    "#CHECKING THE DATATYPE"
   ]
  },
  {
   "cell_type": "code",
   "execution_count": 14,
   "id": "de41b122",
   "metadata": {},
   "outputs": [
    {
     "name": "stdout",
     "output_type": "stream",
     "text": [
      "int32\n",
      "<U6\n",
      "[b'1' b'2' b'3' b'4']\n",
      "|S1\n"
     ]
    }
   ],
   "source": [
    "a=np.array([1,2,3,4])\n",
    "print(a.dtype)\n",
    "f=np.array([1,2,3,4], dtype='S')\n",
    "b=np.array(['apple','banana','nanasi'])\n",
    "print(b.dtype)\n",
    "print(f)\n",
    "print(f.dtype)"
   ]
  },
  {
   "cell_type": "markdown",
   "id": "8b26fe6c",
   "metadata": {},
   "source": [
    "CONVERT DATA TYPE ON EXISTING ARRAY.\n",
    "THE BEST WAY TO CHANGE THE DTYPE OF AN EXISTING ARRAY IS TO MAKE A COPY OF THE ARRAY WITH THE ASTYPE() METHOD"
   ]
  },
  {
   "cell_type": "code",
   "execution_count": 13,
   "id": "cafeb4c2",
   "metadata": {},
   "outputs": [
    {
     "name": "stdout",
     "output_type": "stream",
     "text": [
      "[1.1 1.2 1.3 2.1]\n",
      "[1 1 1 2]\n",
      "[ True  True  True  True]\n"
     ]
    }
   ],
   "source": [
    "c=np.array([1.1,1.2,1.3,2.1])\n",
    "d=c.astype('i')\n",
    "e=d.astype(bool)\n",
    "print(c)\n",
    "print(d)\n",
    "print(e)"
   ]
  },
  {
   "cell_type": "markdown",
   "id": "a5e9e472",
   "metadata": {},
   "source": [
    "NUMPY ARRAY COPY VS VIEW"
   ]
  },
  {
   "cell_type": "markdown",
   "id": "613e1e70",
   "metadata": {},
   "source": [
    "#the main difference btn copy and view of an array is that copy is a new array, and the view is just a view of the original array\n",
    "#the copy owns the data, changes in og wont affect the copy and vice versa"
   ]
  },
  {
   "cell_type": "code",
   "execution_count": 18,
   "id": "ef76e03b",
   "metadata": {},
   "outputs": [
    {
     "name": "stdout",
     "output_type": "stream",
     "text": [
      "[20  2  3  4]\n",
      "[1 2 3 4]\n",
      "[20  2  3  4]\n"
     ]
    }
   ],
   "source": [
    "g=np.array([1,2,3,4])\n",
    "h=g.copy()\n",
    "i=g.view()\n",
    "g[0]=20\n",
    "print(g)\n",
    "print(h)\n",
    "print(i)"
   ]
  },
  {
   "cell_type": "markdown",
   "id": "c0d36a2d",
   "metadata": {},
   "source": [
    "#CHECK IF AN ARRAY OWNS ITS DATA BTN THE VIEW AND THE COPY"
   ]
  },
  {
   "cell_type": "code",
   "execution_count": 19,
   "id": "5758bca2",
   "metadata": {},
   "outputs": [
    {
     "name": "stdout",
     "output_type": "stream",
     "text": [
      "None\n",
      "[1 2 3 4]\n"
     ]
    }
   ],
   "source": [
    "j=np.array([1,2,3,4])\n",
    "x=j.copy()\n",
    "y=j.view()\n",
    "\n",
    "print(x.base)\n",
    "print(y.base)"
   ]
  }
 ],
 "metadata": {
  "kernelspec": {
   "display_name": "Python 3 (ipykernel)",
   "language": "python",
   "name": "python3"
  },
  "language_info": {
   "codemirror_mode": {
    "name": "ipython",
    "version": 3
   },
   "file_extension": ".py",
   "mimetype": "text/x-python",
   "name": "python",
   "nbconvert_exporter": "python",
   "pygments_lexer": "ipython3",
   "version": "3.10.4"
  }
 },
 "nbformat": 4,
 "nbformat_minor": 5
}
