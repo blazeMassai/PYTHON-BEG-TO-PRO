{
 "cells": [
  {
   "cell_type": "markdown",
   "id": "2035f1c8",
   "metadata": {},
   "source": [
    "STACKIN IS THE SAME AS CONCATENATION, THE ONLY DIFFERENCE IS THAT STACKING IS DONE ALONG A NEW AXIS."
   ]
  },
  {
   "cell_type": "code",
   "execution_count": 7,
   "id": "9a80dd68",
   "metadata": {},
   "outputs": [
    {
     "name": "stdout",
     "output_type": "stream",
     "text": [
      "[[1 2 3]\n",
      " [4 5 6]]\n",
      "dimension of the stacked is:  2\n",
      "[[1 4]\n",
      " [2 5]\n",
      " [3 6]]\n",
      "dimension of the stacked using axis=1 is:  2\n"
     ]
    }
   ],
   "source": [
    "import numpy as np\n",
    "a = np.array([1 , 2 , 3 ])\n",
    "b = np.array([4 , 5 , 6 ])\n",
    "\n",
    "c=np.stack((a,b))\n",
    "d=np.stack((a,b), axis=1)\n",
    "print(c)\n",
    "print('dimension of the stacked is: ', c.ndim)\n",
    "print(d)\n",
    "print('dimension of the stacked using axis=1 is: ', d.ndim)"
   ]
  },
  {
   "cell_type": "markdown",
   "id": "2a2d8766",
   "metadata": {},
   "source": [
    "Stacking Along Rows\n",
    "NumPy provides a helper function: hstack( ) to stack along rows."
   ]
  },
  {
   "cell_type": "code",
   "execution_count": 8,
   "id": "0d3c0e3e",
   "metadata": {},
   "outputs": [
    {
     "name": "stdout",
     "output_type": "stream",
     "text": [
      "[1 2 3 4 5 6]\n"
     ]
    }
   ],
   "source": [
    "c = np.array([1 , 2 , 3 ])\n",
    "d = np.array([4 , 5 , 6 ])\n",
    "\n",
    "res=np.hstack((c,d))\n",
    "print(res)"
   ]
  },
  {
   "cell_type": "markdown",
   "id": "c3e0f927",
   "metadata": {},
   "source": [
    "STACKING ALONG COLUMNS\n",
    "NumPy provides a helper function: vstack() to stack along columns."
   ]
  },
  {
   "cell_type": "code",
   "execution_count": 9,
   "id": "3d4841db",
   "metadata": {},
   "outputs": [
    {
     "name": "stdout",
     "output_type": "stream",
     "text": [
      "[[1 2 3]\n",
      " [4 5 6]]\n"
     ]
    }
   ],
   "source": [
    "x = np.array([1 , 2 , 3 ])\n",
    "y = np.array([4 , 5 , 6 ])\n",
    "\n",
    "z=np.vstack((x,y))\n",
    "print(z)"
   ]
  },
  {
   "cell_type": "markdown",
   "id": "8435c0f5",
   "metadata": {},
   "source": [
    "Stacking Along Height (depth)\n",
    "NumPy provides a helper function: dstack( ) to stack along height, which is the same as depth"
   ]
  },
  {
   "cell_type": "code",
   "execution_count": 11,
   "id": "5962df98",
   "metadata": {},
   "outputs": [
    {
     "name": "stdout",
     "output_type": "stream",
     "text": [
      "[[[1 4]\n",
      "  [2 5]\n",
      "  [3 6]]]\n",
      "3\n"
     ]
    }
   ],
   "source": [
    "x1 = np.array([1 , 2 , 3 ])\n",
    "y1 = np.array([4 , 5 , 6 ])\n",
    "\n",
    "z1 = np.dstack((x1, y1))\n",
    "print(z1)\n",
    "print(z1.ndim)"
   ]
  }
 ],
 "metadata": {
  "kernelspec": {
   "display_name": "Python 3 (ipykernel)",
   "language": "python",
   "name": "python3"
  },
  "language_info": {
   "codemirror_mode": {
    "name": "ipython",
    "version": 3
   },
   "file_extension": ".py",
   "mimetype": "text/x-python",
   "name": "python",
   "nbconvert_exporter": "python",
   "pygments_lexer": "ipython3",
   "version": "3.10.4"
  }
 },
 "nbformat": 4,
 "nbformat_minor": 5
}
