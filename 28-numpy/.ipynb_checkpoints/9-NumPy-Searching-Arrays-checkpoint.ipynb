{
 "cells": [
  {
   "cell_type": "markdown",
   "id": "bbfa8e20",
   "metadata": {},
   "source": [
    "# Searching Arrays"
   ]
  },
  {
   "cell_type": "code",
   "execution_count": null,
   "id": "cf1da093",
   "metadata": {},
   "outputs": [],
   "source": [
    "#You can search an array for a certain value, and return the indexes that get a match.\n",
    "#To search an array, use the where( ) method."
   ]
  },
  {
   "cell_type": "code",
   "execution_count": 2,
   "id": "3b8168b2",
   "metadata": {},
   "outputs": [
    {
     "name": "stdout",
     "output_type": "stream",
     "text": [
      "(array([3, 5, 6], dtype=int64),)\n"
     ]
    }
   ],
   "source": [
    "import numpy as np\n",
    "a = np.array([1 , 2 , 3 , 4 , 5 , 4 , 4 ])\n",
    "b=np.where(a==4)\n",
    "print(b)"
   ]
  }
 ],
 "metadata": {
  "kernelspec": {
   "display_name": "Python 3 (ipykernel)",
   "language": "python",
   "name": "python3"
  },
  "language_info": {
   "codemirror_mode": {
    "name": "ipython",
    "version": 3
   },
   "file_extension": ".py",
   "mimetype": "text/x-python",
   "name": "python",
   "nbconvert_exporter": "python",
   "pygments_lexer": "ipython3",
   "version": "3.10.4"
  }
 },
 "nbformat": 4,
 "nbformat_minor": 5
}
