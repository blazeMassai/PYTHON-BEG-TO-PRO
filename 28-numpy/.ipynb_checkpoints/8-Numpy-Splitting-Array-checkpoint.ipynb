{
 "cells": [
  {
   "cell_type": "markdown",
   "id": "46347601",
   "metadata": {},
   "source": [
    "NUMPY SPLITTING ARRAY\n",
    "Splitting is reverse operation of Joining.\n",
    "Joining merges multiple arrays into one and Splitting breaks one array into multiple.\n",
    "We use array_split( ) for splitting arrays, we pass it the array we want to split and the number of splits."
   ]
  },
  {
   "cell_type": "code",
   "execution_count": 6,
   "id": "88480e4e",
   "metadata": {},
   "outputs": [
    {
     "name": "stdout",
     "output_type": "stream",
     "text": [
      "[array([1, 2]), array([3, 4]), array([5, 6])]\n",
      "[array([1, 2, 3]), array([4, 5, 6])]\n",
      "[array([1, 2]), array([3, 4]), array([5]), array([6])]\n"
     ]
    }
   ],
   "source": [
    "import numpy as np\n",
    "a = np.array([1 , 2 , 3 , 4 , 5 , 6 ])\n",
    "b = np.array_split(a, 3)\n",
    "c = np.array_split(a, 2)\n",
    "d = np.array_split(a, 4)\n",
    "print(b)\n",
    "print(c)\n",
    "print(d)"
   ]
  },
  {
   "cell_type": "markdown",
   "id": "f300fa1f",
   "metadata": {},
   "source": [
    "# Splitting 2-D Arrays"
   ]
  },
  {
   "cell_type": "markdown",
   "id": "7ac1d81b",
   "metadata": {},
   "source": [
    "Use the same syntax when splitting 2-D arrays.\n",
    "Use the array_split( ) method, pass in the array you want to split and the number of splits you want to do"
   ]
  },
  {
   "cell_type": "code",
   "execution_count": 10,
   "id": "d31292c8",
   "metadata": {},
   "outputs": [
    {
     "name": "stdout",
     "output_type": "stream",
     "text": [
      "[array([[1, 2],\n",
      "       [3, 4]]), array([[5, 6],\n",
      "       [7, 8]]), array([[ 9, 10],\n",
      "       [11, 12]])]\n",
      "1st split is : [[1 2]\n",
      " [3 4]]\n",
      "2nd split is : [[5 6]\n",
      " [7 8]]\n",
      "3rd split is : [[ 9 10]\n",
      " [11 12]]\n"
     ]
    }
   ],
   "source": [
    "e = np.array([[1 , 2 ], [3 , 4 ], [5 , 6 ], [7 , 8 ], [9 , 10 ], [11 , 12 ]])\n",
    "e1= np.array_split(e, 3)\n",
    "print(e1)\n",
    "print('1st split is :', e1[0])\n",
    "print('2nd split is :', e1[1])\n",
    "print('3rd split is :', e1[2])"
   ]
  },
  {
   "cell_type": "code",
   "execution_count": 14,
   "id": "0d27dc35",
   "metadata": {},
   "outputs": [
    {
     "name": "stdout",
     "output_type": "stream",
     "text": [
      "the dimension of f is: 2\n",
      "[array([[ 1],\n",
      "       [ 4],\n",
      "       [ 7],\n",
      "       [10],\n",
      "       [13],\n",
      "       [16]]), array([[ 2],\n",
      "       [ 5],\n",
      "       [ 8],\n",
      "       [11],\n",
      "       [14],\n",
      "       [17]]), array([[ 3],\n",
      "       [ 6],\n",
      "       [ 9],\n",
      "       [12],\n",
      "       [15],\n",
      "       [18]])]\n",
      "[[ 1]\n",
      " [ 4]\n",
      " [ 7]\n",
      " [10]\n",
      " [13]\n",
      " [16]]\n",
      "2\n",
      "[[ 2]\n",
      " [ 5]\n",
      " [ 8]\n",
      " [11]\n",
      " [14]\n",
      " [17]]\n",
      "2\n",
      "[[ 3]\n",
      " [ 6]\n",
      " [ 9]\n",
      " [12]\n",
      " [15]\n",
      " [18]]\n",
      "2\n",
      "[array([[ 1],\n",
      "       [ 4],\n",
      "       [ 7],\n",
      "       [10],\n",
      "       [13],\n",
      "       [16]]), array([[ 2],\n",
      "       [ 5],\n",
      "       [ 8],\n",
      "       [11],\n",
      "       [14],\n",
      "       [17]]), array([[ 3],\n",
      "       [ 6],\n",
      "       [ 9],\n",
      "       [12],\n",
      "       [15],\n",
      "       [18]])]\n"
     ]
    }
   ],
   "source": [
    "#Split the 2-D array into three 2-D arrays along rows.\n",
    "\n",
    "f = np.array([[1 , 2 , 3 ], [4 , 5 , 6 ], [7 , 8 , 9 ], [10 , 11 , 12 ], [13 , 14 , 15 ], [16 , 17 , 18 ]])\n",
    "print('the dimension of f is:', f.ndim)\n",
    "f1 = np.array_split(f,3, axis=1)\n",
    "print(f1)\n",
    "print(f1[0])\n",
    "print(f1[0].ndim)\n",
    "\n",
    "print(f1[1])\n",
    "print(f1[1].ndim)\n",
    "\n",
    "print(f1[2])\n",
    "print(f1[2].ndim)\n",
    "\n",
    "#An alternate solution is using hsplit( ) opposite of hstack()\n",
    "f2=np.hsplit(f,3)\n",
    "print(f2)\n",
    "\n",
    "#Note: Similar alternates to vstack( ) and dstack( ) are available as vsplit( ) and dsplit( )"
   ]
  }
 ],
 "metadata": {
  "kernelspec": {
   "display_name": "Python 3 (ipykernel)",
   "language": "python",
   "name": "python3"
  },
  "language_info": {
   "codemirror_mode": {
    "name": "ipython",
    "version": 3
   },
   "file_extension": ".py",
   "mimetype": "text/x-python",
   "name": "python",
   "nbconvert_exporter": "python",
   "pygments_lexer": "ipython3",
   "version": "3.10.4"
  }
 },
 "nbformat": 4,
 "nbformat_minor": 5
}
