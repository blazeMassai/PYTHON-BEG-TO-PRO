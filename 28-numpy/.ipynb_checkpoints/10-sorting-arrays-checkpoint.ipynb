{
 "cells": [
  {
   "cell_type": "code",
   "execution_count": 1,
   "id": "cd97544b",
   "metadata": {},
   "outputs": [],
   "source": [
    "import numpy as np"
   ]
  },
  {
   "cell_type": "code",
   "execution_count": 2,
   "id": "965a7730",
   "metadata": {},
   "outputs": [
    {
     "name": "stdout",
     "output_type": "stream",
     "text": [
      "[0 1 2 3]\n"
     ]
    }
   ],
   "source": [
    "a=np.array([3 , 2 , 0 , 1 ])\n",
    "print(np.sort(a))"
   ]
  },
  {
   "cell_type": "code",
   "execution_count": 3,
   "id": "3e8559d3",
   "metadata": {},
   "outputs": [
    {
     "name": "stdout",
     "output_type": "stream",
     "text": [
      "['apple' 'banana' 'cherry']\n"
     ]
    }
   ],
   "source": [
    "b = np.array(['banana' , 'cherry' , 'apple' ])\n",
    "print (np.sort(b))"
   ]
  },
  {
   "cell_type": "code",
   "execution_count": 4,
   "id": "06e9aa7e",
   "metadata": {},
   "outputs": [
    {
     "name": "stdout",
     "output_type": "stream",
     "text": [
      "[False  True  True]\n"
     ]
    }
   ],
   "source": [
    "c = np.array([True , False , True ])\n",
    "print (np.sort(c))"
   ]
  },
  {
   "cell_type": "markdown",
   "id": "e157e46a",
   "metadata": {},
   "source": [
    "# SORTING 2D ARRAYS\n",
    "If you use the sort() method on a 2-D array, both arrays will be sorted:"
   ]
  },
  {
   "cell_type": "code",
   "execution_count": 5,
   "id": "7e1e80fc",
   "metadata": {},
   "outputs": [
    {
     "name": "stdout",
     "output_type": "stream",
     "text": [
      "[[2 3 4]\n",
      " [0 1 5]]\n"
     ]
    }
   ],
   "source": [
    "ab = np.array([[3 , 2 , 4 ], [5 , 0 , 1 ]])\n",
    "print(np.sort(ab))"
   ]
  },
  {
   "cell_type": "markdown",
   "id": "52a4e1c2",
   "metadata": {},
   "source": [
    "# NUMPY FILTER ARRAYS"
   ]
  },
  {
   "cell_type": "code",
   "execution_count": 6,
   "id": "3487693e",
   "metadata": {},
   "outputs": [
    {
     "name": "stdout",
     "output_type": "stream",
     "text": [
      "[41 43]\n"
     ]
    }
   ],
   "source": [
    "d = np.array([41 , 42 , 43 , 44 ])\n",
    "x = [True , False , True , False ]\n",
    "newfilter=d[x]\n",
    "\n",
    "print(newfilter)"
   ]
  },
  {
   "cell_type": "markdown",
   "id": "e9d45553",
   "metadata": {},
   "source": [
    "In the example above we hard-coded the Tru e and Fals e values, but the common use is to create a filter\n",
    "array based on conditions."
   ]
  },
  {
   "cell_type": "code",
   "execution_count": 9,
   "id": "ec867b1a",
   "metadata": {},
   "outputs": [
    {
     "name": "stdout",
     "output_type": "stream",
     "text": [
      "[43 44]\n",
      "[False, False, True, True]\n"
     ]
    }
   ],
   "source": [
    "e = np.array([41 , 42 , 43 , 44 ])\n",
    "\n",
    "filter_arr = []\n",
    "\n",
    "# go through each element in arr\n",
    "# if the element is higher than 42, set the value to True, otherwise False:\n",
    "\n",
    "for element in e:\n",
    "    if element > 42:\n",
    "        filter_arr.append(True)\n",
    "    else:\n",
    "        filter_arr.append(False)\n",
    "            \n",
    "f=e[filter_arr]\n",
    "print(f)\n",
    "print(filter_arr)"
   ]
  },
  {
   "cell_type": "code",
   "execution_count": 10,
   "id": "0c762ae9",
   "metadata": {},
   "outputs": [
    {
     "name": "stdout",
     "output_type": "stream",
     "text": [
      "[2 4 6]\n",
      "[False, True, False, True, False, True, False]\n"
     ]
    }
   ],
   "source": [
    "#Create a filter array that will return only even elements from the original array:\n",
    "f1 = np.array([1 , 2 , 3 , 4 , 5 , 6 , 7 ])\n",
    "filter_f1=[]\n",
    "\n",
    "for element in f1:\n",
    "    if element % 2 == 0 :\n",
    "        filter_f1.append(True)\n",
    "    else:\n",
    "        filter_f1.append(False)\n",
    "        \n",
    "f12=f1[filter_f1]\n",
    "print(f12)\n",
    "print(filter_f1)\n"
   ]
  },
  {
   "cell_type": "markdown",
   "id": "5ee5a1b3",
   "metadata": {},
   "source": [
    "# Creating Filter Directly From Array"
   ]
  },
  {
   "cell_type": "code",
   "execution_count": 12,
   "id": "155353d2",
   "metadata": {},
   "outputs": [
    {
     "name": "stdout",
     "output_type": "stream",
     "text": [
      "[False False  True  True]\n",
      "[False  True False  True]\n"
     ]
    }
   ],
   "source": [
    "f2= np.array([41 , 42 , 43 , 44 ])\n",
    "f21 = f2>42\n",
    "\n",
    "#even\n",
    "f22 = f2 % 2 == 0\n",
    "\n",
    "print(f21)\n",
    "print(f22)"
   ]
  }
 ],
 "metadata": {
  "kernelspec": {
   "display_name": "Python 3 (ipykernel)",
   "language": "python",
   "name": "python3"
  },
  "language_info": {
   "codemirror_mode": {
    "name": "ipython",
    "version": 3
   },
   "file_extension": ".py",
   "mimetype": "text/x-python",
   "name": "python",
   "nbconvert_exporter": "python",
   "pygments_lexer": "ipython3",
   "version": "3.10.4"
  }
 },
 "nbformat": 4,
 "nbformat_minor": 5
}
