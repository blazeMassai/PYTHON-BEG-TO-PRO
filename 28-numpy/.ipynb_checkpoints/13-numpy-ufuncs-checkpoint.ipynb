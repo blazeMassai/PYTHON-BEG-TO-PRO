{
 "cells": [
  {
   "cell_type": "markdown",
   "id": "70754b4a",
   "metadata": {},
   "source": [
    "# NumPy ufuncs\n",
    "ufuncs stands for \"Universal Functions\" and they are NumPy functions that operates on the ndarra y\n",
    "object."
   ]
  },
  {
   "cell_type": "markdown",
   "id": "8f8cba86",
   "metadata": {},
   "source": [
    "# Why use ufuncs?\n",
    "ufuncs are used to implement vectorization in NumPy which is way faster than iterating over elements.\n",
    "They also provide broadcasting and additional methods like reduce, accumulate etc. that are very helpful\n",
    "for computation.\n",
    "ufuncs also take additional arguments, like:\n",
    "where boolean array or condition defining where the operations should take place.\n",
    "dtype defining the return type of elements.\n",
    "out output array where the return value should be copied."
   ]
  },
  {
   "cell_type": "markdown",
   "id": "1a17a822",
   "metadata": {},
   "source": [
    "# What is Vectorization?\n",
    "\n",
    "Converting iterative statements into a vector based operation is called vectorization.\n",
    "It is faster as modern CPUs are optimized for such operations."
   ]
  },
  {
   "cell_type": "code",
   "execution_count": 1,
   "id": "6378276a",
   "metadata": {},
   "outputs": [
    {
     "name": "stdout",
     "output_type": "stream",
     "text": [
      "[ 5  7  9 11]\n"
     ]
    }
   ],
   "source": [
    "#Add the Elements of Two arrays\n",
    "\n",
    "import numpy as np\n",
    "\n",
    "x=[1 , 2 , 3 , 4]\n",
    "y = [4 , 5 , 6 , 7 ]\n",
    "\n",
    "z=np.add(x,y)\n",
    "\n",
    "print(z)\n"
   ]
  },
  {
   "cell_type": "markdown",
   "id": "17ef6a0a",
   "metadata": {},
   "source": [
    "# Create Your Own ufunc: How To Create Your Own ufunc\n",
    "\n",
    "To create you own ufunc, you have to define a function, like you do with normal functions in Python, then\n",
    "you add it to your NumPy ufunc library with the frompyfunc( ) method\n",
    "\n",
    "The frompyfunc( ) method takes the following arguments:\n",
    "1. function - the name of the function.\n",
    "2. inputs - the number of input arguments (arrays).\n",
    "3. outputs - the number of output arrays"
   ]
  },
  {
   "cell_type": "code",
   "execution_count": 7,
   "id": "0f0b84b4",
   "metadata": {},
   "outputs": [
    {
     "name": "stdout",
     "output_type": "stream",
     "text": [
      "[6 4 6 4]\n",
      "<class 'numpy.ufunc'>\n",
      "[2 3 2 3 4 1 4 1]\n"
     ]
    }
   ],
   "source": [
    "def myadd(a,b):\n",
    "    return a+b\n",
    "\n",
    "myadd = np.frompyfunc(myadd, 2, 1)\n",
    "\n",
    "c=[2,3,2,3]\n",
    "d=[4,1,4,1]\n",
    "\n",
    "c1=np.array([2,3,2,3])\n",
    "d1=np.array([4,1,4,1])\n",
    "\n",
    "cd= myadd(c,d)\n",
    "cd1 = np.concatenate((c1,d1))\n",
    "print(cd)\n",
    "print(type(np.add))\n",
    "print(cd1)"
   ]
  }
 ],
 "metadata": {
  "kernelspec": {
   "display_name": "Python 3 (ipykernel)",
   "language": "python",
   "name": "python3"
  },
  "language_info": {
   "codemirror_mode": {
    "name": "ipython",
    "version": 3
   },
   "file_extension": ".py",
   "mimetype": "text/x-python",
   "name": "python",
   "nbconvert_exporter": "python",
   "pygments_lexer": "ipython3",
   "version": "3.10.4"
  }
 },
 "nbformat": 4,
 "nbformat_minor": 5
}
