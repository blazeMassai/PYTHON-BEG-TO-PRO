{
 "cells": [
  {
   "cell_type": "code",
   "execution_count": 7,
   "id": "3d8a3a00",
   "metadata": {},
   "outputs": [
    {
     "name": "stdout",
     "output_type": "stream",
     "text": [
      "[[1 2 3 4]\n",
      " [5 6 7 8]]\n",
      "2nd element on 1st dim:  2\n",
      "4th element on 1st dim:  4\n",
      "3rd element on 2nd dim:  7\n"
     ]
    }
   ],
   "source": [
    "import numpy as np\n",
    "\n",
    "#to access elements in a 2-D array we use comma separated integers\n",
    "    \n",
    "a=np.array([[1,2,3,4],[5,6,7,8]])\n",
    "print(a)\n",
    "print('2nd element on 1st dim: ', a[0,1])\n",
    "print('4th element on 1st dim: ', a[0,3])\n",
    "print('3rd element on 2nd dim: ', a[1,2])"
   ]
  },
  {
   "cell_type": "code",
   "execution_count": 11,
   "id": "094c9aa4",
   "metadata": {},
   "outputs": [
    {
     "name": "stdout",
     "output_type": "stream",
     "text": [
      "[[[ 1  2  3]\n",
      "  [ 4  5  1]]\n",
      "\n",
      " [[ 7  8  9]\n",
      "  [10  4 12]]]\n",
      "3rd element of the 2nd array of the first array is:  1\n",
      "2nd element of the 2nd array of the 2nd array is:  4\n"
     ]
    }
   ],
   "source": [
    "#to access elements from 3-d arrays we use comma separated\n",
    "#integers representing the dimensions\n",
    "\n",
    "b=np.array([[[1,2,3],[4,5,1]],[[7,8,9],[10,4,12]]])\n",
    "print(b)\n",
    "print('3rd element of the 2nd array of the first array is: ', b[0,1,2])\n",
    "print('2nd element of the 2nd array of the 2nd array is: ', b[1,1,1])"
   ]
  },
  {
   "cell_type": "code",
   "execution_count": 14,
   "id": "571220fa",
   "metadata": {},
   "outputs": [
    {
     "name": "stdout",
     "output_type": "stream",
     "text": [
      "[[21 32 43  5  3]\n",
      " [90  4 29  5 82]]\n",
      "the last element of the 2nd dimension:  82\n",
      "the secondlast element of the 1nd dimension:  5\n"
     ]
    }
   ],
   "source": [
    "#Negative indexing. We use negative indexing to access arrays from the end\n",
    "\n",
    "c=np.array([[21,32,43,5,3],[90,4,29,5,82]])\n",
    "print(c)\n",
    "print('the last element of the 2nd dimension: ',c[1,-1])\n",
    "print('the secondlast element of the 1nd dimension: ',c[0,-2])"
   ]
  },
  {
   "cell_type": "code",
   "execution_count": 23,
   "id": "92eed8de",
   "metadata": {},
   "outputs": [
    {
     "name": "stdout",
     "output_type": "stream",
     "text": [
      "[ 1  2  3  4 40  5  7 45]\n",
      "[ 2  3  4 40]\n",
      "slice elements frm begning to index 4:  [1 2 3 4]\n",
      "negative slicing starts from the end:  [5 7]\n",
      "negative slicing more:  [40  5]\n",
      "use step to slice:  [2 4]\n"
     ]
    }
   ],
   "source": [
    "#SLICING NUMPY ARRAYS\n",
    "#slicing in python means taking elemnts from one given \n",
    "#index to another given index\n",
    "\n",
    "ab=np.array([1,2,3,4,40,5,7,45])\n",
    "print(ab)\n",
    "#the result includes the start index but excludes the end index\n",
    "print(ab[1:5])\n",
    "print('slice elements frm begning to index 4: ', ab[:4])\n",
    "print('negative slicing starts from the end: ', ab[-3:-1])\n",
    "print('negative slicing more: ', ab[-4:-2])\n",
    "print('use step to slice: ', ab[1:5:2])"
   ]
  }
 ],
 "metadata": {
  "kernelspec": {
   "display_name": "Python 3 (ipykernel)",
   "language": "python",
   "name": "python3"
  },
  "language_info": {
   "codemirror_mode": {
    "name": "ipython",
    "version": 3
   },
   "file_extension": ".py",
   "mimetype": "text/x-python",
   "name": "python",
   "nbconvert_exporter": "python",
   "pygments_lexer": "ipython3",
   "version": "3.10.0"
  }
 },
 "nbformat": 4,
 "nbformat_minor": 5
}
