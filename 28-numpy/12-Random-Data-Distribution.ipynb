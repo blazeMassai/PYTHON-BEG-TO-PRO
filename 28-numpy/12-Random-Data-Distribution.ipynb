{
 "cells": [
  {
   "cell_type": "markdown",
   "id": "4bdb9278",
   "metadata": {},
   "source": [
    "# Random Data Distribution\n",
    "\n",
    "Data Distribution is a list of all possible values, and how often each value occurs.\n",
    "Such lists are important when working with statistics and data science.\n",
    "The random module offer methods that returns randomly generated data distributions.\n",
    "\n",
    "A random distribution is a set of random numbers that follow a certain probability density function .\n",
    "Probability Density Function: A function that describes a continuous probability. i.e. probability of all\n",
    "values in an array\n",
    "\n",
    "We can generate random numbers based on defined probabilities using the choice( ) method of the rando\n",
    "m module.\n",
    "The choice( ) method allows us to specify the probability for each value.\n",
    "The probability is set by a number between 0 and 1, where 0 means that the value will never occur and 1\n",
    "means that the value will always occur."
   ]
  },
  {
   "cell_type": "markdown",
   "id": "c234c686",
   "metadata": {},
   "source": [
    "# Example\n",
    "\n",
    "Generate a 1-D array containing 100 values, where each value has to be 3, 5, 7 or 9.\n",
    "The probability for the value to be 3 is set to be 0.1\n",
    "The probability for the value to be 5 is set to be 0.3\n",
    "The probability for the value to be 7 is set to be 0.6\n",
    "The probability for the value to be 9 is set to be 0\n",
    "\n",
    "NB:The sum of all probability numbers should be 1."
   ]
  },
  {
   "cell_type": "code",
   "execution_count": 1,
   "id": "596431b1",
   "metadata": {
    "scrolled": true
   },
   "outputs": [
    {
     "name": "stdout",
     "output_type": "stream",
     "text": [
      "[7 5 7 7 7 5 7 7 5 5 7 7 7 5 5 3 7 7 3 7 5 5 7 7 7 7 7 5 7 7 7 7 7 7 5 7 5\n",
      " 5 7 7 5 5 7 3 7 7 7 3 7 5 5 5 5 5 7 7 5 5 3 3 7 3 5 3 7 7 3 7 5 3 7 5 7 7\n",
      " 5 3 7 7 5 5 7 7 7 7 7 3 5 5 7 7 7 3 7 7 7 5 3 5 7 5]\n",
      "int32\n"
     ]
    }
   ],
   "source": [
    "from numpy import random \n",
    "\n",
    "a=random.choice([3,5,7,9], p=[0.1, 0.3, 0.6, 0.0], size=(100))\n",
    "print(a)\n",
    "print(a.dtype)\n"
   ]
  }
 ],
 "metadata": {
  "kernelspec": {
   "display_name": "Python 3 (ipykernel)",
   "language": "python",
   "name": "python3"
  },
  "language_info": {
   "codemirror_mode": {
    "name": "ipython",
    "version": 3
   },
   "file_extension": ".py",
   "mimetype": "text/x-python",
   "name": "python",
   "nbconvert_exporter": "python",
   "pygments_lexer": "ipython3",
   "version": "3.10.4"
  }
 },
 "nbformat": 4,
 "nbformat_minor": 5
}
