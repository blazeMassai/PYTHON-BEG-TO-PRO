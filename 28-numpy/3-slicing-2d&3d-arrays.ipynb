{
 "cells": [
  {
   "cell_type": "code",
   "execution_count": 2,
   "id": "c196899b",
   "metadata": {},
   "outputs": [],
   "source": [
    "import numpy as np"
   ]
  },
  {
   "cell_type": "code",
   "execution_count": 6,
   "id": "f00f0da5",
   "metadata": {},
   "outputs": [
    {
     "name": "stdout",
     "output_type": "stream",
     "text": [
      "[7 8 9]\n",
      "[3 8]\n",
      "[[2 3 4]\n",
      " [7 8 9]]\n"
     ]
    }
   ],
   "source": [
    "arr=np.array([[1,2,3,4,5,],[6,7,8,9,10]])\n",
    "print(arr[1,1:4])\n",
    "#for both elements return index 2\n",
    "print(arr[0:2,2])\n",
    "#for both elements slice index 1 to 4(not included)\n",
    "print(arr[0:2,1:4])"
   ]
  },
  {
   "cell_type": "markdown",
   "id": "5c87f48a",
   "metadata": {},
   "source": [
    "#NUMPY DATA TYPES"
   ]
  },
  {
   "cell_type": "markdown",
   "id": "c5279747",
   "metadata": {},
   "source": [
    "#NUMPY HAS SOME EXTRA DATATYPES APART FROM THE NATIVE DT TYPES OF PYTHON\n",
    "#i-INT, b-BOOLEAN, u-UNSIGNED INT, f-FLOAT, c-COMPL FLOAT, m-TIMEDELTA, M-DATETIME, O-OBJECT, S-STRING, U-UNICODE STRING, V -FIXED CHUNK OF MEMORY FOR OTHER TYPE(VOID) "
   ]
  },
  {
   "cell_type": "code",
   "execution_count": 9,
   "id": "989836ff",
   "metadata": {},
   "outputs": [],
   "source": [
    "#CHECKING THE DATATYPE"
   ]
  },
  {
   "cell_type": "code",
   "execution_count": 11,
   "id": "d4c56739",
   "metadata": {},
   "outputs": [
    {
     "name": "stdout",
     "output_type": "stream",
     "text": [
      "int32\n",
      "<U6\n"
     ]
    }
   ],
   "source": [
    "a=np.array([1,2,3,4])\n",
    "print(a.dtype)\n",
    "\n",
    "b=np.array(['apple','banana','nanasi'])\n",
    "print(b.dtype)"
   ]
  },
  {
   "cell_type": "markdown",
   "id": "02c46c76",
   "metadata": {},
   "source": [
    "CONVERT DATA TYPE ON EXISTING ARRAY.\n",
    "THE BEST WAY TO CHANGE THE DTYPE OF AN EXISTING ARRAY IS TO MAKE A COPY OF THE ARRAY WITH THE ASTYPE() METHOD"
   ]
  },
  {
   "cell_type": "code",
   "execution_count": 13,
   "id": "83905e1a",
   "metadata": {},
   "outputs": [
    {
     "name": "stdout",
     "output_type": "stream",
     "text": [
      "[1.1 1.2 1.3 2.1]\n",
      "[1 1 1 2]\n",
      "[ True  True  True  True]\n"
     ]
    }
   ],
   "source": [
    "c=np.array([1.1,1.2,1.3,2.1])\n",
    "d=c.astype('i')\n",
    "e=d.astype(bool)\n",
    "print(c)\n",
    "print(d)\n",
    "print(e)"
   ]
  },
  {
   "cell_type": "markdown",
   "id": "5ecfb67f",
   "metadata": {},
   "source": [
    "NUMPY ARRAY COPY VS VIEW"
   ]
  }
 ],
 "metadata": {
  "kernelspec": {
   "display_name": "Python 3 (ipykernel)",
   "language": "python",
   "name": "python3"
  },
  "language_info": {
   "codemirror_mode": {
    "name": "ipython",
    "version": 3
   },
   "file_extension": ".py",
   "mimetype": "text/x-python",
   "name": "python",
   "nbconvert_exporter": "python",
   "pygments_lexer": "ipython3",
   "version": "3.10.4"
  }
 },
 "nbformat": 4,
 "nbformat_minor": 5
}
