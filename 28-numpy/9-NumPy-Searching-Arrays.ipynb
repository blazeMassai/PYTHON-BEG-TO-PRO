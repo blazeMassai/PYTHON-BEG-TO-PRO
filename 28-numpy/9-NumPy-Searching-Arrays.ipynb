{
 "cells": [
  {
   "cell_type": "markdown",
   "id": "bbfa8e20",
   "metadata": {},
   "source": [
    "# Searching Arrays"
   ]
  },
  {
   "cell_type": "code",
   "execution_count": null,
   "id": "cf1da093",
   "metadata": {},
   "outputs": [],
   "source": [
    "#You can search an array for a certain value, and return the indexes that get a match.\n",
    "#To search an array, use the where( ) method."
   ]
  },
  {
   "cell_type": "code",
   "execution_count": 1,
   "id": "3b8168b2",
   "metadata": {},
   "outputs": [
    {
     "name": "stdout",
     "output_type": "stream",
     "text": [
      "(array([3, 5, 6], dtype=int64),)\n"
     ]
    }
   ],
   "source": [
    "import numpy as np\n",
    "a = np.array([1 , 2 , 3 , 4 , 5 , 4 , 4 ])\n",
    "b=np.where(a==4)\n",
    "print(b)"
   ]
  },
  {
   "cell_type": "code",
   "execution_count": 3,
   "id": "30d04c4d",
   "metadata": {},
   "outputs": [
    {
     "name": "stdout",
     "output_type": "stream",
     "text": [
      "(array([3, 5, 6], dtype=int64),)\n"
     ]
    }
   ],
   "source": [
    "a1=np.where(a==4)\n",
    "print(a1)"
   ]
  },
  {
   "cell_type": "code",
   "execution_count": 5,
   "id": "96c86f00",
   "metadata": {},
   "outputs": [
    {
     "name": "stdout",
     "output_type": "stream",
     "text": [
      "(array([1, 3, 5, 6], dtype=int64),)\n"
     ]
    }
   ],
   "source": [
    "#find indexes where value are even\n",
    "a2=np.where(a%2==0)\n",
    "print(a2)"
   ]
  },
  {
   "cell_type": "code",
   "execution_count": null,
   "id": "6e8e5c51",
   "metadata": {},
   "outputs": [],
   "source": [
    "#find indexes where value are odd\n",
    "a3=np.where(a%2==1)"
   ]
  },
  {
   "cell_type": "markdown",
   "id": "c653c9fa",
   "metadata": {},
   "source": [
    "## SEARCH SORTED"
   ]
  },
  {
   "cell_type": "markdown",
   "id": "5d358bbc",
   "metadata": {},
   "source": [
    "There is a method called searchsorted( ) which performs a binary search in the array, and returns the\n",
    "index where the specified value would be inserted to maintain the search order.\n",
    "The searchsorted( ) method is assumed to be used on sorted arrays."
   ]
  },
  {
   "cell_type": "code",
   "execution_count": 4,
   "id": "0a6552ab",
   "metadata": {},
   "outputs": [
    {
     "name": "stdout",
     "output_type": "stream",
     "text": [
      "4\n",
      "2\n",
      "[1 1 3]\n"
     ]
    }
   ],
   "source": [
    "c = np.array([ 6 ,7 , 8 , 9])\n",
    "d = np.array([1 , 3 , 5 , 7 ])\n",
    "c1=np.searchsorted(c, 10)\n",
    "c2=np.searchsorted(c, 7, side='right')\n",
    "\n",
    "c3=np.searchsorted(d, [2,3,6])\n",
    "\n",
    "print(c1)\n",
    "print(c2)\n",
    "print(c3)"
   ]
  }
 ],
 "metadata": {
  "kernelspec": {
   "display_name": "Python 3 (ipykernel)",
   "language": "python",
   "name": "python3"
  },
  "language_info": {
   "codemirror_mode": {
    "name": "ipython",
    "version": 3
   },
   "file_extension": ".py",
   "mimetype": "text/x-python",
   "name": "python",
   "nbconvert_exporter": "python",
   "pygments_lexer": "ipython3",
   "version": "3.10.4"
  }
 },
 "nbformat": 4,
 "nbformat_minor": 5
}
