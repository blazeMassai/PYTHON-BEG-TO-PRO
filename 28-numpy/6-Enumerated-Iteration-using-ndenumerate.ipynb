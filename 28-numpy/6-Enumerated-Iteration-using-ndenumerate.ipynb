{
 "cells": [
  {
   "cell_type": "code",
   "execution_count": 5,
   "id": "0a8946e3",
   "metadata": {},
   "outputs": [
    {
     "name": "stdout",
     "output_type": "stream",
     "text": [
      "(0,) 1\n",
      "(1,) 2\n",
      "(2,) 3\n"
     ]
    }
   ],
   "source": [
    "#sometimes we wanna  see the index of the element while iterating, the ndenumerate() method can be used for those use cases\n",
    "\n",
    "import numpy as np\n",
    "a=np.array([1,2,3])\n",
    "for idx, x in np.ndenumerate(a):\n",
    "    print(idx,x)"
   ]
  },
  {
   "cell_type": "code",
   "execution_count": 7,
   "id": "0c2d6ab2",
   "metadata": {},
   "outputs": [
    {
     "name": "stdout",
     "output_type": "stream",
     "text": [
      "(0, 0) 1\n",
      "(0, 1) 2\n",
      "(0, 2) 3\n",
      "(0, 3) 4\n",
      "(1, 0) 5\n",
      "(1, 1) 6\n",
      "(1, 2) 7\n",
      "(1, 3) 8\n"
     ]
    }
   ],
   "source": [
    "#2D array\n",
    "\n",
    "b=np.array([[1,2,3,4],[5,6,7,8]])\n",
    "\n",
    "for idx, i in np.ndenumerate(b):\n",
    "    print(idx, i)"
   ]
  },
  {
   "cell_type": "code",
   "execution_count": 8,
   "id": "a8e17b0c",
   "metadata": {},
   "outputs": [
    {
     "name": "stdout",
     "output_type": "stream",
     "text": [
      "(0, 0) 1\n",
      "(0, 1) 2\n",
      "(0, 2) 3\n",
      "(0, 3) 4\n",
      "(1, 0) 5\n",
      "(1, 1) 6\n",
      "(1, 2) 7\n",
      "(1, 3) 8\n",
      "(2, 0) 9\n",
      "(2, 1) 10\n",
      "(2, 2) 11\n",
      "(2, 3) 12\n"
     ]
    }
   ],
   "source": [
    "c=np.array([[1,2,3,4],[5,6,7,8],[9,10,11,12]])\n",
    "\n",
    "for idx, i in np.ndenumerate(c):\n",
    "    print(idx, i)"
   ]
  },
  {
   "cell_type": "markdown",
   "id": "0618e909",
   "metadata": {},
   "source": [
    "NUMPY JOINING ARRAY"
   ]
  },
  {
   "cell_type": "markdown",
   "id": "2559a159",
   "metadata": {},
   "source": [
    "#Joining means putting the contents of two or more arrays in a single array. In SQL we join using Keys, in Numpy we join using Axes"
   ]
  },
  {
   "cell_type": "code",
   "execution_count": 10,
   "id": "325753c8",
   "metadata": {},
   "outputs": [
    {
     "name": "stdout",
     "output_type": "stream",
     "text": [
      "[1 2 3 4 5 6]\n"
     ]
    }
   ],
   "source": [
    "d=np.array([1,2,3])\n",
    "e=np.array([4,5,6])\n",
    "f=np.concatenate((d,e))\n",
    "print(f)"
   ]
  },
  {
   "cell_type": "code",
   "execution_count": 15,
   "id": "a5abe62e",
   "metadata": {},
   "outputs": [
    {
     "name": "stdout",
     "output_type": "stream",
     "text": [
      "[[[ 1  2  3  4]\n",
      "  [ 5  6  7  8]]\n",
      "\n",
      " [[ 9 10 11 12]\n",
      "  [13 14 15 16]]]\n",
      "The dimensions of ij array is:  3\n",
      "(0, 0, 0) 1\n",
      "(0, 0, 1) 2\n",
      "(0, 0, 2) 3\n",
      "(0, 0, 3) 4\n",
      "(0, 1, 0) 5\n",
      "(0, 1, 1) 6\n",
      "(0, 1, 2) 7\n",
      "(0, 1, 3) 8\n",
      "(1, 0, 0) 9\n",
      "(1, 0, 1) 10\n",
      "(1, 0, 2) 11\n",
      "(1, 0, 3) 12\n",
      "(1, 1, 0) 13\n",
      "(1, 1, 1) 14\n",
      "(1, 1, 2) 15\n",
      "(1, 1, 3) 16\n"
     ]
    }
   ],
   "source": [
    "#Joining 2D\n",
    "g=np.array([[[1,2,3,4],[5,6,7,8]]])\n",
    "h=np.array([[[9,10,11,12],[13,14,15,16]]])\n",
    "\n",
    "ij=np.concatenate((g,h))\n",
    "print(ij)\n",
    "print('The dimensions of ij array is: ', ij.ndim)\n",
    "\n",
    "for ndx, x in np.ndenumerate(ij):\n",
    "    print(ndx, x)\n",
    "    "
   ]
  }
 ],
 "metadata": {
  "kernelspec": {
   "display_name": "Python 3 (ipykernel)",
   "language": "python",
   "name": "python3"
  },
  "language_info": {
   "codemirror_mode": {
    "name": "ipython",
    "version": 3
   },
   "file_extension": ".py",
   "mimetype": "text/x-python",
   "name": "python",
   "nbconvert_exporter": "python",
   "pygments_lexer": "ipython3",
   "version": "3.10.4"
  }
 },
 "nbformat": 4,
 "nbformat_minor": 5
}
