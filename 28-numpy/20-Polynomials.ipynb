{
 "cells": [
  {
   "cell_type": "code",
   "execution_count": 6,
   "id": "e219993c",
   "metadata": {},
   "outputs": [
    {
     "name": "stdout",
     "output_type": "stream",
     "text": [
      "   2\n",
      "1 x + 2 x + 3\n",
      "    \n",
      "The value of x at x=0.5 is: 4.25\n",
      "    \n",
      "below are the roots but may vary:\n",
      "[-1.+1.41421356j -1.-1.41421356j]\n",
      "[4.4408921e-16+0.j 4.4408921e-16+0.j]\n",
      "    \n",
      "below are the coefficients:\n",
      "[1 2 3]\n",
      "    \n",
      "below we display the order:\n",
      "2\n",
      "    \n",
      "below we square the polynomial:\n",
      "   4     3      2\n",
      "1 x + 4 x + 10 x + 12 x + 9\n"
     ]
    }
   ],
   "source": [
    "#example 1\n",
    "#Construct the polynomial x^2 + 2x + 3:\n",
    "\n",
    "import numpy as np\n",
    "\n",
    "p=np.poly1d([1, 2, 3])\n",
    "\n",
    "print(np.poly1d(p))\n",
    "\n",
    "#vealuate the polynomial at x=0.5\n",
    "print('    ')\n",
    "poi1=p(0.5)\n",
    "print(\"The value of x at x=0.5 is: \" +str(poi1))\n",
    "\n",
    "#find the roots\n",
    "print('    ')\n",
    "print('below are the roots but may vary:')\n",
    "print(p.r)\n",
    "print(p(p.r))\n",
    "\n",
    "#show the coeffoicients\n",
    "print('    ')\n",
    "print('below are the coefficients:')\n",
    "print(p.c)\n",
    "\n",
    "\n",
    "#Display the order(the leading zero-coefficients are removed)\n",
    "print('    ')\n",
    "print('below we display the order:')\n",
    "print(p.order)\n",
    "\n",
    "#Polynomials can be added, subtracted, multiplied, and divided (returns quotient and remainder):\n",
    "print('    ')\n",
    "print('below we square the polynomial:')\n",
    "print(p*p)\n"
   ]
  },
  {
   "cell_type": "code",
   "execution_count": 14,
   "id": "f257314c",
   "metadata": {},
   "outputs": [
    {
     "name": "stdout",
     "output_type": "stream",
     "text": [
      "   3     2\n",
      "7 x + 1 x - 2\n"
     ]
    }
   ],
   "source": [
    "import numpy as np\n",
    "import matplotlib.pyplot as plt\n",
    "\n",
    "myp=np.poly1d([7, 1, 0, -2])\n",
    "\n",
    "print(np.poly1d(myp))\n"
   ]
  }
 ],
 "metadata": {
  "kernelspec": {
   "display_name": "Python 3 (ipykernel)",
   "language": "python",
   "name": "python3"
  },
  "language_info": {
   "codemirror_mode": {
    "name": "ipython",
    "version": 3
   },
   "file_extension": ".py",
   "mimetype": "text/x-python",
   "name": "python",
   "nbconvert_exporter": "python",
   "pygments_lexer": "ipython3",
   "version": "3.10.4"
  }
 },
 "nbformat": 4,
 "nbformat_minor": 5
}
