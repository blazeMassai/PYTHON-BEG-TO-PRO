{
 "cells": [
  {
   "cell_type": "markdown",
   "id": "a5eec50b",
   "metadata": {},
   "source": [
    "## Machine Learning - Standard Deviation\n",
    "What is Standard Deviation?\n",
    "\n",
    "Standard deviation is a number that describes how spread out the values are.\n",
    "A low standard deviation means that most of the numbers are close to the mean (average) value.\n",
    "A high standard deviation means that the values are spread out over a wider range.\n",
    "Example: This time we have registered the speed of 7 cars:\n",
    "\n",
    "\n",
    "speed = [86 ,87 ,88 ,86 ,87 ,85 ,86 ]\n",
    "The standard deviation is:\n",
    "0.9\n",
    "Meaning that most of the values are within the range of 0.9 from the mean value, which is 86.4.\n",
    "\n",
    "Let us do the same with a selection of numbers with a wider range:\n",
    "speed = [32 ,111 ,138 ,28 ,59 ,77 ,97 ]\n",
    "The standard deviation is:\n",
    "37.85\n",
    "\n",
    "\n",
    "Meaning that most of the values are within the range of 37.85 from the mean value, which is 77.4.\n",
    "As you can see, a higher standard deviation indicates that the values are spread out over a wider range.\n",
    "The NumPy module has a method to calculate the standard deviation:\n",
    "\n",
    " std( )"
   ]
  }
 ],
 "metadata": {
  "kernelspec": {
   "display_name": "Python 3 (ipykernel)",
   "language": "python",
   "name": "python3"
  },
  "language_info": {
   "codemirror_mode": {
    "name": "ipython",
    "version": 3
   },
   "file_extension": ".py",
   "mimetype": "text/x-python",
   "name": "python",
   "nbconvert_exporter": "python",
   "pygments_lexer": "ipython3",
   "version": "3.10.4"
  }
 },
 "nbformat": 4,
 "nbformat_minor": 5
}
