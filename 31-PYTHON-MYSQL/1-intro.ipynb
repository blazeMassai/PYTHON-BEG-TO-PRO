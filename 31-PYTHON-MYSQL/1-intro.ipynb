{
 "cells": [
  {
   "cell_type": "code",
   "execution_count": 2,
   "metadata": {},
   "outputs": [
    {
     "name": "stdout",
     "output_type": "stream",
     "text": [
      "<mysql.connector.connection_cext.CMySQLConnection object at 0x000001DA13F03950>\n"
     ]
    }
   ],
   "source": [
    "import mysql.connector\n",
    "\n",
    "mydb = mysql.connector.connect(\n",
    "    host='localhost',\n",
    "    user='root',\n",
    "    password='anungo710'\n",
    ")\n",
    "\n",
    "print(mydb)"
   ]
  },
  {
   "cell_type": "markdown",
   "metadata": {},
   "source": [
    "## Creating a Database\n",
    "To create a database in MySQL, use the \"CREATE DATABASE\" statement:"
   ]
  },
  {
   "cell_type": "code",
   "execution_count": 4,
   "metadata": {},
   "outputs": [],
   "source": [
    "import mysql.connector\n",
    "\n",
    "mydb=mysql.connector.connect(\n",
    "    host='localhost',\n",
    "    user='root',\n",
    "    password='anungo710'\n",
    ")\n",
    "\n",
    "mycursor=mydb.cursor()\n",
    "mycursor.execute(\"CREATE DATABASE pybeginnertopro\")"
   ]
  },
  {
   "cell_type": "code",
   "execution_count": 5,
   "metadata": {},
   "outputs": [
    {
     "name": "stdout",
     "output_type": "stream",
     "text": [
      "('crnote',)\n",
      "('elite7',)\n",
      "('event-planner-fastapi',)\n",
      "('information_schema',)\n",
      "('myshop',)\n",
      "('mysql',)\n",
      "('performance_schema',)\n",
      "('pybeginnertopro',)\n",
      "('sakila',)\n",
      "('sys',)\n",
      "('test',)\n",
      "('tizza',)\n",
      "('world',)\n"
     ]
    }
   ],
   "source": [
    "## Check if the databse exists\n",
    "\n",
    "import mysql.connector\n",
    "\n",
    "mydb=mysql.connector.connect(\n",
    "    host='localhost',\n",
    "    user='root',\n",
    "    password='anungo710'\n",
    ")\n",
    "\n",
    "mycursor=mydb.cursor()\n",
    "mycursor.execute(\"SHOW DATABASES\")\n",
    "\n",
    "for x in mycursor:\n",
    "    print(x)"
   ]
  },
  {
   "cell_type": "code",
   "execution_count": 7,
   "metadata": {},
   "outputs": [],
   "source": [
    "##Try connecting to a database\n",
    "\n",
    "import mysql.connector\n",
    "\n",
    "mydb=mysql.connector.connect(\n",
    "    host=\"localhost\",\n",
    "    user=\"root\",\n",
    "    password=\"anungo710\",\n",
    "    database=\"pybeginnertopro\"\n",
    ")\n",
    "\n",
    "mycursor=mydb.cursor()\n",
    "\n",
    "mycursor.execute(\"CREATE TABLE customers(name VARCHAR(255), address VARCHAR(255))\")"
   ]
  },
  {
   "cell_type": "code",
   "execution_count": 8,
   "metadata": {},
   "outputs": [
    {
     "name": "stdout",
     "output_type": "stream",
     "text": [
      "('customers',)\n"
     ]
    }
   ],
   "source": [
    "## CHECK IF TABLE EXISTS\n",
    "\n",
    "##Try connecting to a database\n",
    "\n",
    "import mysql.connector\n",
    "\n",
    "mydb=mysql.connector.connect(\n",
    "    host=\"localhost\",\n",
    "    user=\"root\",\n",
    "    password=\"anungo710\",\n",
    "    database=\"pybeginnertopro\"\n",
    ")\n",
    "\n",
    "mycursor=mydb.cursor()\n",
    "\n",
    "mycursor.execute(\"SHOW TABLES\")\n",
    "\n",
    "for x in mycursor:\n",
    "    print(x)"
   ]
  },
  {
   "cell_type": "code",
   "execution_count": 11,
   "metadata": {},
   "outputs": [],
   "source": [
    "## ADD PRIMARY KEY TO TABLES\n",
    "\n",
    "\n",
    "import mysql.connector\n",
    "\n",
    "mydb=mysql.connector.connect(\n",
    "    host=\"localhost\",\n",
    "    user=\"root\",\n",
    "    password=\"anungo710\",\n",
    "    database=\"pybeginnertopro\"\n",
    ")\n",
    "\n",
    "mycursor=mydb.cursor()\n",
    "\n",
    "mycursor.execute(\"ALTER TABLE customers ADD(id INT AUTO_INCREMENT PRIMARY KEY)\")"
   ]
  },
  {
   "cell_type": "code",
   "execution_count": 13,
   "metadata": {},
   "outputs": [
    {
     "name": "stdout",
     "output_type": "stream",
     "text": [
      "1 record inserted\n"
     ]
    }
   ],
   "source": [
    "##INSERT DATA\n",
    "\n",
    "import mysql.connector\n",
    "\n",
    "mydb=mysql.connector.connect(\n",
    "    host=\"localhost\",\n",
    "    user=\"root\",\n",
    "    password=\"anungo710\",\n",
    "    database=\"pybeginnertopro\"\n",
    ")\n",
    "\n",
    "mycursor=mydb.cursor()\n",
    "\n",
    "# x=\"INSERT INTO customers(name, address) VALUES (%s, %s)\"\n",
    "\n",
    "# y=(\"Ree\", \"Ngulelo\")\n",
    "\n",
    "# z=(\"Dotto\", \"Mbeya\")\n",
    "\n",
    "# a=(\"Ryn\", \"Ngulelo\")\n",
    "\n",
    "# b=(\"Ariel\", \"Dsm\")\n",
    "\n",
    "# mycursor.execute(x, y)\n",
    "# mycursor.execute(x, z)\n",
    "# mycursor.execute(x, a)\n",
    "# mycursor.execute(x, b)\n",
    "\n",
    "# mydb.commit()\n",
    "\n",
    "# print(mycursor.rowcount, \"record inserted\")"
   ]
  },
  {
   "cell_type": "code",
   "execution_count": 14,
   "metadata": {},
   "outputs": [
    {
     "name": "stdout",
     "output_type": "stream",
     "text": [
      "13 records inserted\n"
     ]
    }
   ],
   "source": [
    "##insert multiple rows\n",
    "\n",
    "import mysql.connector\n",
    "\n",
    "mydb=mysql.connector.connect(\n",
    "    host=\"localhost\",\n",
    "    user=\"root\",\n",
    "    password=\"anungo710\",\n",
    "    database=\"pybeginnertopro\"\n",
    ")\n",
    "\n",
    "mycursor=mydb.cursor()\n",
    "\n",
    "x=\"INSERT INTO customers(name, address) VALUES (%s, %s)\"\n",
    "\n",
    "majinamengi = [\n",
    "('Peter' , 'Lowstreet 4' ),\n",
    "('Amy' , 'Apple st 652' ),\n",
    "('Hannah' , 'Mountain 21' ),\n",
    "('Michael' , 'Valley 345' ),\n",
    "('Sandy' , 'Ocean blvd 2' ),\n",
    "('Betty' , 'Green Grass 1' ),\n",
    "('Richard' , 'Sky st 331' ),\n",
    "('Susan' , 'One way 98' ),\n",
    "('Vicky' , 'Yellow Garden 2' ),\n",
    "('Ben' , 'Park Lane 38' ),\n",
    "('William' , 'Central st 954' ),\n",
    "('Chuck' , 'Main Road 989' ),\n",
    "('Viola' , 'Sideway 1633' )\n",
    "]\n",
    "\n",
    "mycursor.executemany(x, majinamengi)\n",
    "\n",
    "mydb.commit()\n",
    "\n",
    "print(mycursor.rowcount, \"records inserted\")\n",
    "\n"
   ]
  },
  {
   "cell_type": "code",
   "execution_count": 15,
   "metadata": {},
   "outputs": [
    {
     "name": "stdout",
     "output_type": "stream",
     "text": [
      "1 record inserted, iD: None\n"
     ]
    }
   ],
   "source": [
    "##get last row inserted into\n",
    "\n",
    "\n",
    "import mysql.connector\n",
    "\n",
    "mydb=mysql.connector.connect(\n",
    "    host=\"localhost\",\n",
    "    user=\"root\",\n",
    "    password=\"anungo710\",\n",
    "    database=\"pybeginnertopro\"\n",
    ")\n",
    "\n",
    "mycursor=mydb.cursor()\n",
    "\n",
    "print(\"1 record inserted, iD:\", mycursor.lastrowid)"
   ]
  },
  {
   "cell_type": "code",
   "execution_count": 16,
   "metadata": {},
   "outputs": [
    {
     "name": "stdout",
     "output_type": "stream",
     "text": [
      "('Ree', 'Ngulelo', 5)\n",
      "('Dotto', 'Mbeya', 6)\n",
      "('Ryn', 'Ngulelo', 7)\n",
      "('Ariel', 'Dsm', 8)\n",
      "('Peter', 'Lowstreet 4', 9)\n",
      "('Amy', 'Apple st 652', 10)\n",
      "('Hannah', 'Mountain 21', 11)\n",
      "('Michael', 'Valley 345', 12)\n",
      "('Sandy', 'Ocean blvd 2', 13)\n",
      "('Betty', 'Green Grass 1', 14)\n",
      "('Richard', 'Sky st 331', 15)\n",
      "('Susan', 'One way 98', 16)\n",
      "('Vicky', 'Yellow Garden 2', 17)\n",
      "('Ben', 'Park Lane 38', 18)\n",
      "('William', 'Central st 954', 19)\n",
      "('Chuck', 'Main Road 989', 20)\n",
      "('Viola', 'Sideway 1633', 21)\n"
     ]
    }
   ],
   "source": [
    "##SELECT FROM\n",
    "\n",
    "\n",
    "import mysql.connector\n",
    "\n",
    "mydb=mysql.connector.connect(\n",
    "    host=\"localhost\",\n",
    "    user=\"root\",\n",
    "    password=\"anungo710\",\n",
    "    database=\"pybeginnertopro\"\n",
    ")\n",
    "\n",
    "mycursor=mydb.cursor()\n",
    "\n",
    "mycursor.execute(\"SELECT * from customers\")\n",
    "\n",
    "\n",
    "res = mycursor.fetchall()\n",
    "\n",
    "for x in res:\n",
    "    print(x)"
   ]
  }
 ],
 "metadata": {
  "kernelspec": {
   "display_name": "Python 3",
   "language": "python",
   "name": "python3"
  },
  "language_info": {
   "codemirror_mode": {
    "name": "ipython",
    "version": 3
   },
   "file_extension": ".py",
   "mimetype": "text/x-python",
   "name": "python",
   "nbconvert_exporter": "python",
   "pygments_lexer": "ipython3",
   "version": "3.11.0"
  },
  "orig_nbformat": 4,
  "vscode": {
   "interpreter": {
    "hash": "8a6fb25ab973e7af4ce5799d761b804d36a925aace5959abb7531dd752a081b8"
   }
  }
 },
 "nbformat": 4,
 "nbformat_minor": 2
}
