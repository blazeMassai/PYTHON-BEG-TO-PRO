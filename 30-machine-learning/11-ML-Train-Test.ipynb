{
 "cells": [
  {
   "cell_type": "markdown",
   "source": [
    "## Evaluate Your Model\n",
    "In Machine Learning we create models to predict the outcome of certain events, like in the previous\n",
    "chapter where we predicted the CO2 emission of a car when we knew the weight and engine size.\n",
    "To measure if the model is good enough, we can use a method called Train/Test."
   ],
   "metadata": {
    "collapsed": false,
    "pycharm": {
     "name": "#%% md\n"
    }
   }
  }
 ],
 "metadata": {
  "kernelspec": {
   "display_name": "Python 3",
   "language": "python",
   "name": "python3"
  },
  "language_info": {
   "codemirror_mode": {
    "name": "ipython",
    "version": 2
   },
   "file_extension": ".py",
   "mimetype": "text/x-python",
   "name": "python",
   "nbconvert_exporter": "python",
   "pygments_lexer": "ipython2",
   "version": "2.7.6"
  }
 },
 "nbformat": 4,
 "nbformat_minor": 0
}