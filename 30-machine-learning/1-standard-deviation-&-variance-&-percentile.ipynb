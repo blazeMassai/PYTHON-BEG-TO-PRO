{
 "cells": [
  {
   "cell_type": "markdown",
   "id": "a5eec50b",
   "metadata": {},
   "source": [
    "## Machine Learning - Standard Deviation\n",
    "What is Standard Deviation?\n",
    "\n",
    "Standard deviation is a number that describes how spread out the values are.\n",
    "A low standard deviation means that most of the numbers are close to the mean (average) value.\n",
    "A high standard deviation means that the values are spread out over a wider range.\n",
    "Example: This time we have registered the speed of 7 cars:\n",
    "\n",
    "\n",
    "speed = [86 ,87 ,88 ,86 ,87 ,85 ,86 ]\n",
    "The standard deviation is:\n",
    "0.9\n",
    "Meaning that most of the values are within the range of 0.9 from the mean value, which is 86.4.\n",
    "\n",
    "Let us do the same with a selection of numbers with a wider range:\n",
    "speed = [32 ,111 ,138 ,28 ,59 ,77 ,97 ]\n",
    "The standard deviation is:\n",
    "37.85\n",
    "\n",
    "\n",
    "Meaning that most of the values are within the range of 37.85 from the mean value, which is 77.4.\n",
    "As you can see, a higher standard deviation indicates that the values are spread out over a wider range.\n",
    "The NumPy module has a method to calculate the standard deviation:\n",
    "\n",
    " std( )"
   ]
  },
  {
   "cell_type": "code",
   "execution_count": 1,
   "id": "b5ebc184",
   "metadata": {},
   "outputs": [
    {
     "name": "stdout",
     "output_type": "stream",
     "text": [
      "0.9035079029052513\n"
     ]
    }
   ],
   "source": [
    "#Example\n",
    "#Use the NumPy std( ) method to find the standard deviation:\n",
    "import numpy as np\n",
    "\n",
    "speed = [86 ,87 ,88 ,86 ,87 ,85 ,86 ]\n",
    "\n",
    "x = np.std(speed)\n",
    "\n",
    "print(x)"
   ]
  },
  {
   "cell_type": "code",
   "execution_count": 2,
   "id": "63886271",
   "metadata": {},
   "outputs": [
    {
     "name": "stdout",
     "output_type": "stream",
     "text": [
      "37.84501153334721\n"
     ]
    }
   ],
   "source": [
    "import numpy as np\n",
    "\n",
    "heights = [32 ,111 ,138 ,28 ,59 ,77 ,97 ]\n",
    "\n",
    "y=np.std(heights)\n",
    "\n",
    "print(y)"
   ]
  },
  {
   "cell_type": "markdown",
   "id": "293afd37",
   "metadata": {},
   "source": [
    "## VARIANCE\n",
    "\n",
    "Variance is another number that indicates how spread out the values are.\n",
    "In fact, if you take the square root of the variance, you get the standard deviation!\n",
    "Or the other way around, if you multiply the standard deviation by itself, you get the variance!\n",
    "To calculate the variance you have to do as follows:\n",
    "\n",
    "1. Find the mean:\n",
    "(32 +111 +138 +28 +59 +77 +97 ) / 7 = 77.4\n",
    "\n",
    "2. For each value: find the difference from the mean:\n",
    "32 - 77.4 = -45.4\n",
    "111 - 77.4 = 33.6\n",
    "138 - 77.4 = 60.6\n",
    "28 - 77.4 = -49.4\n",
    "59 - 77.4 = -18.4\n",
    "77 - 77.4 = - 0.4\n",
    "97 - 77.4 = 19.6\n",
    "\n",
    "3. For each difference: find the square value:\n",
    "(-45.4 )2 = 2061.16\n",
    "(33.6 )2 = 1128.96\n",
    "(60.6 )2 = 3672.36\n",
    "(-49.4 )2 = 2440.36\n",
    "(-18.4 )2 = 338.56\n",
    "(- 0.4 )2 = 0.16\n",
    "(19.6 )2 = 384.16\n",
    "\n",
    "4. The variance is the average number of these squared differences:\n",
    "(2061.16 +1128.96 +3672.36 +2440.36 +338.56 +0.16 +384.16 ) / 7 = 1432.2\n",
    "\n",
    "Luckily, NumPy has a method to calculate the variance:"
   ]
  },
  {
   "cell_type": "code",
   "execution_count": 2,
   "id": "b7b6c8a5",
   "metadata": {},
   "outputs": [
    {
     "name": "stdout",
     "output_type": "stream",
     "text": [
      "variance is: 1432.2448979591834\n"
     ]
    }
   ],
   "source": [
    "#Use the NumPy var( ) method to find the variance:\n",
    "\n",
    "import numpy as np\n",
    "\n",
    "speed = [32 ,111 ,138 ,28 ,59 ,77 ,97 ]\n",
    "\n",
    "x=np.var(speed)\n",
    "\n",
    "print('variance is: ' + str(x))"
   ]
  },
  {
   "cell_type": "markdown",
   "id": "10b0936f",
   "metadata": {},
   "source": [
    "## What are Percentiles?\n",
    "\n",
    "Percentiles are used in statistics to give you a number that describes the value that a given percent of the\n",
    "values are lower than.\n",
    "\n",
    "Example: Let's say we have an array of the ages of all the people that lives in a street.\n",
    "ages = [5 ,31 ,43 ,48 ,50 ,41 ,7 ,11 ,15 ,39 ,80 ,82 ,32 ,2 ,8 ,6 ,25 ,36 ,27 ,61 ,31 ]\n",
    "\n",
    "What is the 75. percentile? The answer is 43, meaning that 75% of the people are 43 or younger.\n",
    "The NumPy module has a method for finding the specified percentile:"
   ]
  },
  {
   "cell_type": "code",
   "execution_count": 3,
   "id": "18813953",
   "metadata": {},
   "outputs": [
    {
     "name": "stdout",
     "output_type": "stream",
     "text": [
      "percentile is: 43.0\n"
     ]
    }
   ],
   "source": [
    "#Use the NumPy percentile( ) method to find the percentiles:\n",
    "\n",
    "import numpy as np\n",
    "\n",
    "ages = [5 ,31 ,43 ,48 ,50 ,41 ,7 ,11 ,15 ,39 ,80 ,82 ,32 ,2 ,8 ,6 ,25 ,36 ,27 ,61 ,31 ]\n",
    "\n",
    "x=np.percentile(ages, 75)\n",
    "\n",
    "print('75th percentile is: ' + str(x))"
   ]
  },
  {
   "cell_type": "code",
   "execution_count": 3,
   "id": "e6168279",
   "metadata": {},
   "outputs": [
    {
     "name": "stdout",
     "output_type": "stream",
     "text": [
      "90th percentile is: 61.0\n"
     ]
    }
   ],
   "source": [
    "import numpy as np\n",
    "\n",
    "ages = [5 ,31 ,43 ,48 ,50 ,41 ,7 ,11 ,15 ,39 ,80 ,82 ,32 ,2 ,8 ,6 ,25 ,36 ,27 ,61 ,31 ]\n",
    "\n",
    "x1 = np.percentile(ages, 90 )\n",
    "\n",
    "print('90th percentile is: ' + str(x1))\n"
   ]
  }
 ],
 "metadata": {
  "kernelspec": {
   "display_name": "Python 3 (ipykernel)",
   "language": "python",
   "name": "python3"
  },
  "language_info": {
   "codemirror_mode": {
    "name": "ipython",
    "version": 3
   },
   "file_extension": ".py",
   "mimetype": "text/x-python",
   "name": "python",
   "nbconvert_exporter": "python",
   "pygments_lexer": "ipython3",
   "version": "3.10.4"
  }
 },
 "nbformat": 4,
 "nbformat_minor": 5
}
