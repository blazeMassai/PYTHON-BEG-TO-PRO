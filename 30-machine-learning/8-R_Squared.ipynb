{
 "cells": [
  {
   "cell_type": "markdown",
   "id": "23e15a2b",
   "metadata": {
    "pycharm": {
     "name": "#%% md\n"
    }
   },
   "source": [
    "## R-Squared\n",
    "\n",
    "It is important to know how well the relationship between the values of the x- and y-axis is, if there are no\n",
    "relationship the polynomial regression can not be used to predict anything.\n",
    "The relationship is measured with a value called the r-squared.\n",
    "The r-squared value ranges from 0 to 1, where 0 means no relationship, and 1 means 100% related.\n",
    "Python and the Sklearn module will compute this value for you, all you have to do is feed it with the x and\n",
    "y arrays:"
   ]
  },
  {
   "cell_type": "code",
   "execution_count": 3,
   "id": "d3f724d7",
   "metadata": {
    "pycharm": {
     "name": "#%%\n"
    }
   },
   "outputs": [
    {
     "name": "stdout",
     "output_type": "stream",
     "text": [
      "0.9432150416451026\n",
      "          3         2\n",
      "-0.03032 x + 1.343 x - 15.54 x + 113.8\n"
     ]
    }
   ],
   "source": [
    "#Example \n",
    "#How well does my data fit in a polynomial regression?\n",
    "\n",
    "import numpy as np\n",
    "from sklearn.metrics import r2_score\n",
    "\n",
    "x = [1 ,2 ,3 ,5 ,6 ,7 ,8 ,9 ,10 ,12 ,13 ,14 ,15 ,16 ,18 ,19 ,21 ,22 ]\n",
    "y = [100 ,90 ,80 ,60 ,60 ,55 ,60 ,65 ,70 ,70 ,75 ,76 ,78 ,79 ,90 ,99 ,99 ,100 ]\n",
    "\n",
    "mymodel=np.poly1d(np.polyfit(x, y ,3))\n",
    "\n",
    "print(r2_score(y, mymodel(x)))\n",
    "\n",
    "print(np.poly1d(mymodel))"
   ]
  },
  {
   "cell_type": "markdown",
   "id": "4c8fb1fe",
   "metadata": {
    "pycharm": {
     "name": "#%% md\n"
    }
   },
   "source": [
    "## Predict Future Values\n",
    "Now we can use the information we have gathered to predict future values.\n",
    "Example: Let us try to predict the speed of a car that passes the tollbooth at around 17 P.M:\n",
    "To do so, we need the same mymode l array from the example above:\n",
    "\n",
    "mymodel = numpy.poly1d(numpy.polyfit(x, y, 3 ))"
   ]
  },
  {
   "cell_type": "code",
   "execution_count": 2,
   "id": "424d79f1",
   "metadata": {
    "pycharm": {
     "name": "#%%\n"
    }
   },
   "outputs": [
    {
     "data": {
      "text/plain": "<Figure size 432x288 with 1 Axes>",
      "image/png": "[encoded data removed]"
     },
     "metadata": {
      "needs_background": "light"
     },
     "output_type": "display_data"
    },
    {
     "name": "stdout",
     "output_type": "stream",
     "text": [
      "88.87331269697978\n",
      "          3         2\n",
      "-0.03032 x + 1.343 x - 15.54 x + 113.8\n"
     ]
    }
   ],
   "source": [
    "#Example:  Predict the speed of a car passing at 17PM\n",
    "\n",
    "import numpy as np\n",
    "from sklearn.metrics import r2_score\n",
    "import matplotlib.pyplot as plt\n",
    "\n",
    "x = [1 ,2 ,3 ,5 ,6 ,7 ,8 ,9 ,10 ,12 ,13 ,14 ,15 ,16 ,18 ,19 ,21 ,22 ]\n",
    "y = [100 ,90 ,80 ,60 ,60 ,55 ,60 ,65 ,70 ,70 ,75 ,76 ,78 ,79 ,90 ,99 ,99 ,100 ]\n",
    "\n",
    "mymodel = np.poly1d(np.polyfit(x, y, 3 ))\n",
    "\n",
    "myline = np.linspace(1 , 25 , 100 )\n",
    "plt.scatter(x, y)\n",
    "plt.plot(myline, mymodel(myline))\n",
    "plt.show()\n",
    "\n",
    "speed = mymodel(17 )\n",
    "\n",
    "print(speed)\n",
    "print(np.poly1d(mymodel))"
   ]
  },
  {
   "cell_type": "markdown",
   "id": "979da3ee",
   "metadata": {
    "pycharm": {
     "name": "#%% md\n"
    }
   },
   "source": [
    "## Bad Fit?\n",
    "Let us create an example where polynomial regression would not be the best method to predict future\n",
    "values.\n",
    "Example\n",
    "These values for the x- and y-axis should result in a very bad fit for polynomial regression:"
   ]
  },
  {
   "cell_type": "code",
   "execution_count": 3,
   "outputs": [
    {
     "data": {
      "text/plain": "<Figure size 432x288 with 1 Axes>",
      "image/png": "[encoded data removed]"
     },
     "metadata": {
      "needs_background": "light"
     },
     "output_type": "display_data"
    },
    {
     "name": "stdout",
     "output_type": "stream",
     "text": [
      "0.009952707566680652\n"
     ]
    }
   ],
   "source": [
    "import numpy as np\n",
    "import matplotlib.pyplot as plt\n",
    "\n",
    "x = [89 ,43 ,36 ,36 ,95 ,10 ,66 ,34 ,38 ,20 ,26 ,29 ,48 ,64 ,6 ,5 ,36 ,66 ,72 ,40 ]\n",
    "y = [21 ,46 ,3 ,35 ,67 ,95 ,53 ,72 ,58 ,10 ,26 ,34 ,90 ,33 ,38 ,20 ,56 ,2 ,47 ,15 ]\n",
    "\n",
    "mymodel = np.poly1d(np.polyfit(x, y, 3 ))\n",
    "\n",
    "myline = np.linspace(2 , 95 , 100 )\n",
    "\n",
    "plt.scatter(x, y)\n",
    "plt.plot(myline, mymodel(myline))\n",
    "plt.show()\n",
    "\n",
    "print (r2_score(y, mymodel(x)))"
   ],
   "metadata": {
    "collapsed": false,
    "pycharm": {
     "name": "#%%\n"
    }
   }
  },
  {
   "cell_type": "code",
   "execution_count": null,
   "outputs": [],
   "source": [],
   "metadata": {
    "collapsed": false,
    "pycharm": {
     "name": "#%%\n"
    }
   }
  }
 ],
 "metadata": {
  "kernelspec": {
   "display_name": "Python 3 (ipykernel)",
   "language": "python",
   "name": "python3"
  },
  "language_info": {
   "codemirror_mode": {
    "name": "ipython",
    "version": 3
   },
   "file_extension": ".py",
   "mimetype": "text/x-python",
   "name": "python",
   "nbconvert_exporter": "python",
   "pygments_lexer": "ipython3",
   "version": "3.10.4"
  }
 },
 "nbformat": 4,
 "nbformat_minor": 5
}