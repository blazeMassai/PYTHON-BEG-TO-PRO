{
 "cells": [
  {
   "cell_type": "markdown",
   "metadata": {
    "pycharm": {
     "name": "#%% md\n"
    }
   },
   "source": [
    "## Scale Features\n",
    "When your data has different values, and even different measurement units, it can be difficult to compare\n",
    "them. What is kilograms compared to meter? Or altitude compared to time?\n",
    "The answer to this problem is scaling. We can scale data into new values that are easier to compare.\n",
    "Take a look at the table below, it is the same data set that we used in the multiple regression chapter, but\n",
    "this time the volume column contains values in liters instead of cm 3 (1.0 instead of 1000).\n",
    "\n",
    "It can be difficult to compare the volume 1.0 with the weight 790, but if we scale them both into\n",
    "comparable values, we can easily see how much one value is compared to the other.\n",
    "There are different methods for scaling data, in this tutorial we will use a method called standardization.\n",
    "The standardization method uses this formula:\n",
    "\n",
    "z = (x - u) / s\n",
    "\n",
    "Where z is the new value, x is the original value, u is the mean and s is the standard deviation.\n",
    "If you take the weight column from the data set CARS-HEADED.CSV, the first value is 790, and the scaled value will be:\n",
    "\n",
    "(790 - 1292.23) / 238.74 = -2.1\n",
    "\n",
    "If you take the volume column from the data set above, the first value is 1.0, and the scaled value will be:\n",
    "(1.0 - 1.61) / 0.38 = -1.59\n",
    "\n",
    "Now you can compare -2.1 with -1.59 instead of comparing 790 with 1.0.\n",
    "You do not have to do this manually, the Python sklearn module has a method called StandardScaler( )\n",
    "which returns a Scaler object with methods for transforming data sets."
   ]
  },
  {
   "cell_type": "code",
   "execution_count": 6,
   "metadata": {
    "pycharm": {
     "name": "#%%\n"
    }
   },
   "outputs": [
    {
     "name": "stdout",
     "output_type": "stream",
     "text": [
      "[[-2.10389253 -1.59336644]\n",
      " [-0.55407235 -1.07190106]\n",
      " [-1.52166278 -1.59336644]\n",
      " [-1.78973979 -1.85409913]\n",
      " [-0.63784641 -0.28970299]\n",
      " [-1.52166278 -1.59336644]\n",
      " [-0.76769621 -0.55043568]\n",
      " [ 0.3046118  -0.28970299]\n",
      " [-0.7551301  -0.28970299]\n",
      " [-0.59595938 -0.0289703 ]\n",
      " [-1.30803892 -1.33263375]\n",
      " [-1.26615189 -0.81116837]\n",
      " [-0.7551301  -1.59336644]\n",
      " [-0.16871166 -0.0289703 ]\n",
      " [ 0.14125238 -0.0289703 ]\n",
      " [ 0.15800719 -0.0289703 ]\n",
      " [ 0.3046118  -0.0289703 ]\n",
      " [-0.05142797  1.53542584]\n",
      " [-0.72580918 -0.0289703 ]\n",
      " [ 0.14962979  1.01396046]\n",
      " [ 1.2219378  -0.0289703 ]\n",
      " [ 0.5685001   1.01396046]\n",
      " [ 0.3046118   1.27469315]\n",
      " [ 0.51404696 -0.0289703 ]\n",
      " [ 0.51404696  1.01396046]\n",
      " [ 0.72348212 -0.28970299]\n",
      " [ 0.8281997   1.01396046]\n",
      " [ 1.81254495  1.01396046]\n",
      " [ 0.96642691 -0.0289703 ]\n",
      " [ 1.72877089  1.01396046]\n",
      " [ 1.30990057  1.27469315]\n",
      " [ 1.90050772  1.01396046]\n",
      " [-0.23991961 -0.0289703 ]\n",
      " [ 0.40932938 -0.0289703 ]\n",
      " [ 0.47215993 -0.0289703 ]\n",
      " [ 0.4302729   2.31762392]]\n"
     ]
    }
   ],
   "source": [
    "#Scaleall the values in the Weight and Volume columns\n",
    "\n",
    "import pandas as pd\n",
    "\n",
    "from sklearn import linear_model\n",
    "from sklearn.preprocessing import StandardScaler\n",
    "\n",
    "scale = StandardScaler()\n",
    "\n",
    "df=pd.read_csv(\"cars-headed.csv\")\n",
    "\n",
    "X=df[['Weight', 'Volume']]\n",
    "\n",
    "scaledX = scale.fit_transform(X)\n",
    "\n",
    "print(scaledX)"
   ]
  },
  {
   "cell_type": "markdown",
   "metadata": {
    "pycharm": {
     "name": "#%% md\n"
    }
   },
   "source": [
    "## Predict CO2 Values\n",
    "The task in the Multiple Regression chapter was to predict the CO2 emission from a car when you only\n",
    "knew its weight and volume.\n",
    "When the data set is scaled, you will have to use the scale when you predict values:"
   ]
  },
  {
   "cell_type": "code",
   "execution_count": 21,
   "metadata": {
    "pycharm": {
     "name": "#%%\n"
    }
   },
   "outputs": [
    {
     "name": "stdout",
     "output_type": "stream",
     "text": [
      "[97.07204485]\n"
     ]
    }
   ],
   "source": [
    "# Example\n",
    "# Predict the CO2 emission from a 1.3 liter car that weighs 2300 kilograms:\n",
    "\n",
    "import pandas as pd\n",
    "from sklearn import linear_model\n",
    "from sklearn.preprocessing import StandardScaler\n",
    "\n",
    "scale=StandardScaler()\n",
    "\n",
    "df=pd.read_csv(\"cars-headed.csv\")\n",
    "\n",
    "X=df[['Weight', 'Volume']]\n",
    "\n",
    "y=df['CO2']\n",
    "\n",
    "scaledX=scale.fit_transform(X.values)\n",
    "\n",
    "regres=linear_model.LinearRegression()\n",
    "\n",
    "regres.fit(scaledX, y)\n",
    "\n",
    "scaled=scale.transform([[2300, 1.3]])\n",
    "\n",
    "predictedCO2=regres.predict([scaled[0]])\n",
    "\n",
    "print(predictedCO2)"
   ]
  }
 ],
 "metadata": {
  "kernelspec": {
   "display_name": "Python 3.11.0 64-bit",
   "language": "python",
   "name": "python3"
  },
  "language_info": {
   "codemirror_mode": {
    "name": "ipython",
    "version": 3
   },
   "file_extension": ".py",
   "mimetype": "text/x-python",
   "name": "python",
   "nbconvert_exporter": "python",
   "pygments_lexer": "ipython3",
   "version": "3.11.0"
  },
  "vscode": {
   "interpreter": {
    "hash": "8a6fb25ab973e7af4ce5799d761b804d36a925aace5959abb7531dd752a081b8"
   }
  }
 },
 "nbformat": 4,
 "nbformat_minor": 1
}