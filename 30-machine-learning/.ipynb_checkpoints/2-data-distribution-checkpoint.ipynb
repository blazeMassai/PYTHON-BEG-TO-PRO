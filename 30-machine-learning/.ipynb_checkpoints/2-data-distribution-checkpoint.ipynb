{
 "cells": [
  {
   "cell_type": "markdown",
   "id": "83153837",
   "metadata": {},
   "source": [
    "## Data Distribution\n",
    "Earlier in this tutorial we have worked with very small amounts of data in our examples, just to\n",
    "understand the different concepts.\n",
    "In the real world, the data sets are much bigger, but it can be difficult to gather real world data, at least\n",
    "at an early stage of a project.\n",
    "\n",
    "## How Can we Get Big Data Sets?\n",
    "To create big data sets for testing, we use the Python module NumPy, which comes with a number of\n",
    "methods to create random data sets, of any size."
   ]
  },
  {
   "cell_type": "code",
   "execution_count": 1,
   "id": "a9acf7ff",
   "metadata": {},
   "outputs": [
    {
     "name": "stdout",
     "output_type": "stream",
     "text": [
      "[7.90968534e-01 1.90533904e+00 4.90764287e+00 4.73774855e+00\n",
      " 4.61086639e+00 4.07766030e+00 3.91681291e+00 3.12436388e+00\n",
      " 7.96403608e-01 2.55319155e+00 1.04038039e+00 2.65331092e+00\n",
      " 3.20532394e+00 3.31302217e+00 2.58588626e+00 3.68113612e+00\n",
      " 4.53296427e-02 2.70128619e+00 4.61560398e+00 2.06475926e+00\n",
      " 3.38285844e+00 4.66005267e+00 4.44038292e+00 1.94773624e+00\n",
      " 1.83885279e+00 1.97603261e+00 1.81655870e+00 7.20205551e-01\n",
      " 4.27098548e+00 3.39966329e+00 2.67428667e+00 1.66295061e+00\n",
      " 2.99540625e-01 6.19956763e-01 8.03546705e-01 1.93177359e+00\n",
      " 7.22274898e-01 1.18196815e+00 3.63244793e+00 7.15221907e-01\n",
      " 7.71799476e-01 5.76859199e-01 6.85334276e-01 4.06998523e+00\n",
      " 3.96731023e+00 1.04488361e-02 2.29746530e+00 2.09666458e+00\n",
      " 3.58720116e-02 4.92478126e+00 4.63413757e+00 4.41289900e+00\n",
      " 1.92036438e-01 2.22281647e+00 2.45238401e-01 3.30305978e+00\n",
      " 2.10848510e+00 3.40790559e+00 3.46617999e+00 3.48012530e+00\n",
      " 1.55257395e+00 1.57406569e+00 3.67921713e+00 3.12848845e-02\n",
      " 7.21727670e-02 8.37293945e-01 2.89944789e+00 8.79314654e-01\n",
      " 4.86849566e+00 3.20294341e+00 9.30890606e-01 4.10236054e+00\n",
      " 2.04701093e+00 3.08650668e+00 4.86274230e+00 2.67098801e+00\n",
      " 4.68372459e+00 4.29532083e+00 8.92634797e-01 3.42480838e+00\n",
      " 2.17922123e+00 3.19638429e+00 6.75673573e-01 4.37115973e+00\n",
      " 1.03466968e+00 2.54562886e+00 4.20380462e+00 4.82498209e+00\n",
      " 4.02819162e+00 4.64523713e+00 3.96583514e+00 4.89543153e+00\n",
      " 1.71780707e+00 3.16952864e+00 2.31511015e+00 1.63719094e+00\n",
      " 3.26606963e+00 3.90079990e+00 2.58832733e+00 2.54489728e-02\n",
      " 2.03288448e+00 4.39558379e+00 3.09404304e-01 1.57547134e+00\n",
      " 3.17122577e+00 4.72444403e+00 4.04277109e+00 1.22622260e+00\n",
      " 6.47906390e-01 1.75247805e+00 3.57246478e+00 7.82632573e-01\n",
      " 2.67447743e+00 1.57728991e+00 4.29404417e+00 2.39430547e+00\n",
      " 4.26137766e-01 4.76636563e-01 4.28433731e+00 2.82005875e+00\n",
      " 1.92385033e+00 4.17137560e+00 4.10350386e+00 1.07928114e+00\n",
      " 2.70735570e-02 4.35805845e+00 1.48293650e+00 3.72766004e+00\n",
      " 1.94750323e+00 2.00134504e+00 3.76050804e+00 2.82551900e+00\n",
      " 4.92205711e+00 4.89019682e+00 3.27440035e+00 2.03787620e+00\n",
      " 3.15044459e+00 2.96242524e+00 1.28214324e+00 1.97326376e+00\n",
      " 3.32545177e+00 2.73328080e+00 3.15255024e+00 1.26955759e+00\n",
      " 4.74861175e+00 8.75259277e-01 2.96726298e+00 3.11062485e+00\n",
      " 3.50866647e+00 1.59378941e+00 3.70375290e+00 1.87627377e-01\n",
      " 1.99152325e+00 3.29189714e+00 2.37803987e+00 2.18648503e+00\n",
      " 9.52197336e-01 4.61095858e-01 2.71809099e+00 3.16118104e+00\n",
      " 4.70136953e+00 3.93859681e+00 3.79343146e+00 4.67196963e+00\n",
      " 3.47191944e+00 6.83124943e-01 1.00665032e+00 2.08419573e+00\n",
      " 3.31643759e+00 2.96035418e+00 2.89480401e+00 1.59502136e+00\n",
      " 4.04935040e+00 4.54403857e+00 3.45082470e+00 2.11376724e+00\n",
      " 6.02925795e-01 2.85487375e+00 2.16703799e+00 1.31707012e+00\n",
      " 4.79102325e+00 2.17361186e-02 4.42416663e+00 4.81130124e+00\n",
      " 1.70209768e+00 2.28265214e+00 1.00071189e+00 3.75789991e+00\n",
      " 2.26853665e+00 1.37759837e+00 1.19139538e+00 4.78311258e+00\n",
      " 1.87913248e+00 4.01802755e-01 4.51770301e-01 2.60064222e+00\n",
      " 3.72447772e+00 3.09490170e-03 7.70769852e-01 4.68301317e+00\n",
      " 3.62053416e-01 9.86974097e-01 7.81448688e-01 4.78160805e-01\n",
      " 4.35712306e+00 1.27616037e+00 3.60474729e-01 4.22200173e+00\n",
      " 4.27390827e+00 1.92289812e-01 2.37252997e+00 1.55540351e+00\n",
      " 2.21892560e+00 1.96024107e+00 7.80969096e-01 2.13509464e+00\n",
      " 4.27701339e+00 4.25742277e+00 2.33217091e+00 4.39169009e+00\n",
      " 3.77194229e-01 2.14400465e+00 6.04971905e-01 4.63754298e+00\n",
      " 3.43342637e+00 1.62735058e-02 2.64988360e+00 1.93867008e+00\n",
      " 4.10065478e+00 6.29122409e-02 1.63391672e+00 2.40205745e+00\n",
      " 3.07621759e+00 2.72940871e+00 2.77801980e+00 3.19144127e-01\n",
      " 6.85277539e-01 3.54023920e+00 4.30488348e-01 3.70985352e+00\n",
      " 2.03153660e+00 6.61766836e-01 7.35512347e-01 2.03783132e+00\n",
      " 3.10977610e+00 4.06997345e+00 1.72465226e+00 3.16082243e+00\n",
      " 9.51385084e-01 4.92178481e+00]\n"
     ]
    }
   ],
   "source": [
    "#Example\n",
    "#Create an array containing 250 random floats between 0 and 5:\n",
    "\n",
    "import numpy as np\n",
    "\n",
    "x=np.random.uniform(0.0, 5.0, 250)\n",
    "\n",
    "print(x)"
   ]
  },
  {
   "cell_type": "markdown",
   "id": "7eacfb75",
   "metadata": {},
   "source": [
    "## Histogram\n",
    "To visualize the data set we can draw a histogram with the data we collected.\n",
    "We will use the Python module Matplotlib to draw a histogram."
   ]
  },
  {
   "cell_type": "code",
   "execution_count": 2,
   "id": "da2185a8",
   "metadata": {},
   "outputs": [
    {
     "data": {
      "image/png": "[encoded data removed]",
      "text/plain": [
       "<Figure size 432x288 with 1 Axes>"
      ]
     },
     "metadata": {
      "needs_background": "light"
     },
     "output_type": "display_data"
    }
   ],
   "source": [
    "import numpy as np\n",
    "import matplotlib.pyplot as plt\n",
    "\n",
    "x1=np.random.uniform(0.0,5.0, 250)\n",
    "\n",
    "plt.hist(x1, 5)\n",
    "plt.show()"
   ]
  },
  {
   "cell_type": "markdown",
   "id": "eb37ecec",
   "metadata": {},
   "source": [
    "Histogram Explained\n",
    "We use the array from the example above to draw a histogram with 5 bars.\n",
    "The first bar represents how many values in the array are between 0 and 1.\n",
    "The second bar represents how many values are between 1 and 2.\n",
    "Etc.\n",
    "Which gives us this result:\n",
    "● 52 values are between 0 and 1\n",
    "● 48 values are between 1 and 2\n",
    "● 49 values are between 2 and 3\n",
    "● 51 values are between 3 and 4\n",
    "● 50 values are between 4 and 5\n",
    "Note: The array values are random numbers and will not show the exact same result on your computer."
   ]
  }
 ],
 "metadata": {
  "kernelspec": {
   "display_name": "Python 3 (ipykernel)",
   "language": "python",
   "name": "python3"
  },
  "language_info": {
   "codemirror_mode": {
    "name": "ipython",
    "version": 3
   },
   "file_extension": ".py",
   "mimetype": "text/x-python",
   "name": "python",
   "nbconvert_exporter": "python",
   "pygments_lexer": "ipython3",
   "version": "3.10.4"
  }
 },
 "nbformat": 4,
 "nbformat_minor": 5
}
