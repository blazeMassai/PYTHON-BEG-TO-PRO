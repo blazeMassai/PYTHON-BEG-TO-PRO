{
 "cells": [
  {
   "cell_type": "markdown",
   "id": "1e6099c7",
   "metadata": {},
   "source": [
    "## Big Data Distributions\n",
    "An array containing 250 values is not considered very big, but now you know how to create a random set\n",
    "of values, and by changing the parameters, you can create the data set as big as you want."
   ]
  },
  {
   "cell_type": "code",
   "execution_count": 2,
   "id": "7b6ceba6",
   "metadata": {},
   "outputs": [
    {
     "data": {
      "image/png": "[encoded data removed]",
      "text/plain": [
       "<Figure size 432x288 with 1 Axes>"
      ]
     },
     "metadata": {
      "needs_background": "light"
     },
     "output_type": "display_data"
    }
   ],
   "source": [
    "#example\n",
    "\n",
    "#Example\n",
    "#Create an array with 100000 random numbers, and display them using a histogram with 100 bars:\n",
    "\n",
    "import numpy as np\n",
    "import matplotlib.pyplot as plt\n",
    "\n",
    "x = np.random.uniform(0.0 , 5.0 , 100000 )\n",
    "plt.hist(x, 100 )\n",
    "plt.show()"
   ]
  },
  {
   "cell_type": "markdown",
   "id": "36b53d0a",
   "metadata": {},
   "source": [
    "## Normal Data Distribution\n",
    "\n",
    "In the previous chapter we learned how to create a completely random array, of a given size, and between\n",
    "two given values.\n",
    "In this chapter we will learn how to create an array where the values are concentrated around a given\n",
    "value.\n",
    "\n",
    "In probability theory this kind of data distribution is known as the normal data distribution , or the\n",
    "Gaussian data distribution , after the mathematician Carl Friedrich Gauss who came up with the formula\n",
    "of this data distribution."
   ]
  },
  {
   "cell_type": "code",
   "execution_count": 1,
   "id": "aff67589",
   "metadata": {
    "scrolled": true
   },
   "outputs": [
    {
     "data": {
      "image/png": "[encoded data removed]",
      "text/plain": [
       "<Figure size 432x288 with 1 Axes>"
      ]
     },
     "metadata": {
      "needs_background": "light"
     },
     "output_type": "display_data"
    }
   ],
   "source": [
    "import numpy as np\n",
    "import matplotlib.pyplot as plt\n",
    "\n",
    "x=np.random.normal(5.0, 1.0, 100000)\n",
    "\n",
    "plt.hist(x, 100)\n",
    "\n",
    "plt.show()"
   ]
  },
  {
   "cell_type": "markdown",
   "id": "03cad0dd",
   "metadata": {},
   "source": [
    "Histogram Explained\n",
    "We use the array from the numpy.random.normal( ) method, with 100000 values, to draw a histogram\n",
    "with 100 bars.\n",
    "We specify that the mean value is 5.0, and the standard deviation is 1.0.\n",
    "Meaning that the values should be concentrated around 5.0, and rarely further away than 1.0 from the\n",
    "mean.\n",
    "And as you can see from the histogram, most values are between 4.0 and 6.0, with a top at approximately\n",
    "5.0."
   ]
  }
 ],
 "metadata": {
  "kernelspec": {
   "display_name": "Python 3 (ipykernel)",
   "language": "python",
   "name": "python3"
  },
  "language_info": {
   "codemirror_mode": {
    "name": "ipython",
    "version": 3
   },
   "file_extension": ".py",
   "mimetype": "text/x-python",
   "name": "python",
   "nbconvert_exporter": "python",
   "pygments_lexer": "ipython3",
   "version": "3.10.4"
  }
 },
 "nbformat": 4,
 "nbformat_minor": 5
}
