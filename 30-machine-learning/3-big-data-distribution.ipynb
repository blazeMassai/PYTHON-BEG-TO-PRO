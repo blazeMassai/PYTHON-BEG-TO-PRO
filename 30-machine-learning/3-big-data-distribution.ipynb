{
 "cells": [
  {
   "cell_type": "markdown",
   "id": "1e6099c7",
   "metadata": {},
   "source": [
    "## Big Data Distributions\n",
    "An array containing 250 values is not considered very big, but now you know how to create a random set\n",
    "of values, and by changing the parameters, you can create the data set as big as you want."
   ]
  },
  {
   "cell_type": "code",
   "execution_count": 2,
   "id": "7b6ceba6",
   "metadata": {},
   "outputs": [
    {
     "data": {
      "image/png": "[encoded data removed]",
      "text/plain": [
       "<Figure size 432x288 with 1 Axes>"
      ]
     },
     "metadata": {
      "needs_background": "light"
     },
     "output_type": "display_data"
    }
   ],
   "source": [
    "#example\n",
    "\n",
    "#Example\n",
    "#Create an array with 100000 random numbers, and display them using a histogram with 100 bars:\n",
    "\n",
    "import numpy as np\n",
    "import matplotlib.pyplot as plt\n",
    "\n",
    "x = np.random.uniform(0.0 , 5.0 , 100000 )\n",
    "plt.hist(x, 100 )\n",
    "plt.show()"
   ]
  }
 ],
 "metadata": {
  "kernelspec": {
   "display_name": "Python 3 (ipykernel)",
   "language": "python",
   "name": "python3"
  },
  "language_info": {
   "codemirror_mode": {
    "name": "ipython",
    "version": 3
   },
   "file_extension": ".py",
   "mimetype": "text/x-python",
   "name": "python",
   "nbconvert_exporter": "python",
   "pygments_lexer": "ipython3",
   "version": "3.10.4"
  }
 },
 "nbformat": 4,
 "nbformat_minor": 5
}
