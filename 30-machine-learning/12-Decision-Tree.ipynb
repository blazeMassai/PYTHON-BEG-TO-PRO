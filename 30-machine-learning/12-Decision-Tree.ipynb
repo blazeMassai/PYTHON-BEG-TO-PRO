{
 "cells": [
  {
   "attachments": {},
   "cell_type": "markdown",
   "metadata": {},
   "source": [
    "Decision Tree\n",
    "\n",
    "A Decision Tree is a Flow Chart, and can\n",
    "help you make decisions based on previous experience.\n",
    "In the example, a person will try to decide if he/she should go to a comedy show or not.\n",
    "Luckily our example person has registered every time there was a comedy show in town, and registered\n",
    "some information about the comedian, and also registered if he/she went or not."
   ]
  }
 ],
 "metadata": {
  "language_info": {
   "name": "python"
  },
  "orig_nbformat": 4
 },
 "nbformat": 4,
 "nbformat_minor": 2
}
