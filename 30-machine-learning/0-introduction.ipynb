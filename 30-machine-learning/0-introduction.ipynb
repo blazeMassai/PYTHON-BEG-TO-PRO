{
 "cells": [
  {
   "cell_type": "markdown",
   "id": "35e38be2",
   "metadata": {},
   "source": [
    "## Machine Learning"
   ]
  },
  {
   "cell_type": "markdown",
   "id": "4fd3be4b",
   "metadata": {},
   "source": [
    "ML is making the computer learn from studying data and statistics\n",
    "ML is a step into the direction of artificial intelligence(AI)\n",
    "ML is a program that analyses data and learns to predict the outcome."
   ]
  },
  {
   "cell_type": "markdown",
   "id": "78ba9858",
   "metadata": {},
   "source": [
    "## Dataset"
   ]
  },
  {
   "cell_type": "markdown",
   "id": "fe8c329d",
   "metadata": {},
   "source": [
    "In the mind of a computer, a dataset is any collection of data. It can be anything from an array to a complete database.\n",
    "\n",
    "Example of an array:\n",
    "[99 ,86 ,87 ,88 ,111 ,86 ,103 ,87 ,94 ,78 ,77 ,85 ,86 ]b"
   ]
  },
  {
   "cell_type": "markdown",
   "id": "78a19fc9",
   "metadata": {},
   "source": [
    "## Data Types\n",
    "To analyze data, it is important to know what type of data we are dealing with.\n",
    "\n",
    "We can split the data types into three main categories:\n",
    "● Numerical\n",
    "● Categorical\n",
    "● Ordinal\n",
    "\n",
    "Numerical data are numbers, and can be split into two numerical categories:\n",
    "● Discrete Data\n",
    "- numbers that are limited to integers. Example: The number of cars passing by.\n",
    "\n",
    "● Continuous Data\n",
    "- numbers that are of infinite value. Example: The price of an item, or the size of an item\n",
    "\n",
    "Categorical data are values that cannot be measured up against each other. Example: a color value, or\n",
    "any yes/no values.\n",
    "\n",
    "Ordinal data are like categorical data, but can be measured up against each other. Example: school\n",
    "grades where A is better than B and so on.\n",
    "\n",
    "By knowing the data type of your data source, you will be able to know what technique to use when\n",
    "analyzing them."
   ]
  },
  {
   "cell_type": "markdown",
   "id": "6a1c7e67",
   "metadata": {},
   "source": [
    "## Mean, Median, and Mode\n",
    "What can we learn from looking at a group of numbers?\n",
    "In Machine Learning (and in mathematics) there are often three values that interests us:\n",
    "● Mean - The average value\n",
    "● Median - The mid point value\n",
    "● Mode - The most common value"
   ]
  },
  {
   "cell_type": "markdown",
   "id": "17c3453f",
   "metadata": {},
   "source": [
    "## Mean\n",
    "The mean value is the average value.\n",
    "To calculate the mean, find the sum of all values, and divide the sum by the number of values:\n",
    "(99 +86 +87 +88 +111 +86 +103 +87 +94 +78 +77 +85 +86 ) / 13 = 89.77"
   ]
  },
  {
   "cell_type": "code",
   "execution_count": 1,
   "id": "faabe901",
   "metadata": {},
   "outputs": [
    {
     "name": "stdout",
     "output_type": "stream",
     "text": [
      "mean is: 89.76923076923077\n"
     ]
    }
   ],
   "source": [
    "##Example\n",
    "\n",
    "import numpy as np\n",
    "\n",
    "speed=[99 ,86 ,87 ,88 ,111 ,86 ,103 ,87 ,94 ,78 ,77 ,85 ,86]\n",
    "\n",
    "x=np.mean(speed)\n",
    "print(\"mean is: \" + str(x))"
   ]
  },
  {
   "cell_type": "markdown",
   "id": "ec06a183",
   "metadata": {},
   "source": [
    "## Median\n",
    "\n",
    "The median value is the value in the middle, after you have sorted all the values:\n",
    "It is important that the numbers are sorted before you can find the median.\n",
    "The NumPy module has a method for this:"
   ]
  },
  {
   "cell_type": "code",
   "execution_count": 5,
   "id": "09b7b914",
   "metadata": {},
   "outputs": [
    {
     "name": "stdout",
     "output_type": "stream",
     "text": [
      "median is: 87.0\n",
      "median for spice is: 86.5\n"
     ]
    }
   ],
   "source": [
    "#example:\n",
    "\n",
    "import numpy as np\n",
    "\n",
    "speed=[99 ,86 ,87 ,88 ,111 ,86 ,103 ,87 ,94 ,78 ,77 ,85 ,86]\n",
    "\n",
    "spice = [99 ,86 ,87 ,88 ,86 ,103 ,87 ,94 ,78 ,77 ,85 ,86 ]\n",
    "\n",
    "y=np.median(speed)\n",
    "\n",
    "z=np.median(spice)\n",
    "print(\"median is: \" + str(y))\n",
    "\n",
    "print(\"median for spice is: \" + str(z))"
   ]
  },
  {
   "cell_type": "markdown",
   "id": "ef8acbd2",
   "metadata": {},
   "source": [
    "## Mode\n",
    "The Mode value is the value that appears the most number of times:\n",
    "The SciPy module has a method for this. Learn about the SciPy module in our SciPy Tutorial."
   ]
  },
  {
   "cell_type": "code",
   "execution_count": 10,
   "id": "4ffa4476",
   "metadata": {},
   "outputs": [
    {
     "name": "stdout",
     "output_type": "stream",
     "text": [
      "ModeResult(mode=array([86]), count=array([3]))\n"
     ]
    }
   ],
   "source": [
    "#example\n",
    "\n",
    "from scipy import stats\n",
    "\n",
    "sx=[99 ,86 ,87 ,88 ,111 ,86 ,103 ,87 ,94 ,78 ,77 ,85 ,86]\n",
    "\n",
    "mo=stats.mode(sx, keepdims=True)\n",
    "# print(\"mode is: \" + str(mo))\n",
    "print(mo)"
   ]
  }
 ],
 "metadata": {
  "kernelspec": {
   "display_name": "Python 3 (ipykernel)",
   "language": "python",
   "name": "python3"
  },
  "language_info": {
   "codemirror_mode": {
    "name": "ipython",
    "version": 3
   },
   "file_extension": ".py",
   "mimetype": "text/x-python",
   "name": "python",
   "nbconvert_exporter": "python",
   "pygments_lexer": "ipython3",
   "version": "3.10.4"
  }
 },
 "nbformat": 4,
 "nbformat_minor": 5
}
