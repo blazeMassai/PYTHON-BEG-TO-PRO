{
 "cells": [
  {
   "cell_type": "markdown",
   "id": "5cdd49d6",
   "metadata": {},
   "source": [
    "## Machine Learning - Polynomial Regression\n",
    "\n",
    "\n",
    "## Polynomial Regression\n",
    "If your data points clearly will not fit a linear regression (a straight line through all data points), it might\n",
    "be ideal for polynomial regression.\n",
    "Polynomial regression, like linear regression, uses the relationship between the variables x and y to find\n",
    "the best way to draw a line through the data points."
   ]
  }
 ],
 "metadata": {
  "kernelspec": {
   "display_name": "Python 3 (ipykernel)",
   "language": "python",
   "name": "python3"
  },
  "language_info": {
   "codemirror_mode": {
    "name": "ipython",
    "version": 3
   },
   "file_extension": ".py",
   "mimetype": "text/x-python",
   "name": "python",
   "nbconvert_exporter": "python",
   "pygments_lexer": "ipython3",
   "version": "3.10.4"
  }
 },
 "nbformat": 4,
 "nbformat_minor": 5
}
