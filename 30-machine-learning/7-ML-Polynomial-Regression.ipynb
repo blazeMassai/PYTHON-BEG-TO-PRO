{
 "cells": [
  {
   "cell_type": "markdown",
   "id": "5cdd49d6",
   "metadata": {
    "pycharm": {
     "name": "#%% md\n"
    }
   },
   "source": [
    "## Machine Learning - Polynomial Regression\n",
    "\n",
    "\n",
    "## Polynomial Regression\n",
    "If your data points clearly will not fit a linear regression (a straight line through all data points), it might\n",
    "be ideal for polynomial regression.\n",
    "Polynomial regression, like linear regression, uses the relationship between the variables x and y to find\n",
    "the best way to draw a line through the data points."
   ]
  },
  {
   "cell_type": "markdown",
   "id": "7da112e9",
   "metadata": {
    "pycharm": {
     "name": "#%% md\n"
    }
   },
   "source": [
    "## How Does it Work?\n",
    "\n",
    "Python has methods for finding a relationship between data-points and to draw a line of polynomial\n",
    "regression. We will show you how to use these methods instead of going through the mathematic formula.\n",
    "In the example below, we have registered 18 cars as they were passing a certain tollbooth.\n",
    "We have registered the car's speed, and the time of day (hour) the passing occurred.\n",
    "The x-axis represents the hours of the day and the y-axis represents the speed:"
   ]
  },
  {
   "cell_type": "code",
   "execution_count": 1,
   "id": "5b11e134",
   "metadata": {
    "pycharm": {
     "name": "#%%\n"
    }
   },
   "outputs": [
    {
     "data": {
      "image/png": "[encoded data removed]",
      "text/plain": [
       "<Figure size 432x288 with 1 Axes>"
      ]
     },
     "metadata": {
      "needs_background": "light"
     },
     "output_type": "display_data"
    }
   ],
   "source": [
    "# Example\n",
    "# Start by drawing a scatter plot:\n",
    "\n",
    "import matplotlib.pyplot as plt\n",
    "\n",
    "x = [1 ,2 ,3 ,5 ,6 ,7 ,8 ,9 ,10 ,12 ,13 ,14 ,15 ,16 ,18 ,19 ,21 ,22 ]\n",
    "y = [100 ,90 ,80 ,60 ,60 ,55 ,60 ,65 ,70 ,70 ,75 ,76 ,78 ,79 ,90 ,99 ,99 ,100 ]\n",
    "\n",
    "plt.scatter(x,y)\n",
    "plt.show()"
   ]
  },
  {
   "cell_type": "code",
   "execution_count": 4,
   "id": "d77ee785",
   "metadata": {
    "pycharm": {
     "name": "#%%\n"
    }
   },
   "outputs": [
    {
     "data": {
      "image/png": "[encoded data removed]",
      "text/plain": [
       "<Figure size 432x288 with 1 Axes>"
      ]
     },
     "metadata": {
      "needs_background": "light"
     },
     "output_type": "display_data"
    },
    {
     "name": "stdout",
     "output_type": "stream",
     "text": [
      "          3         2\n",
      "-0.03032 x + 1.343 x - 15.54 x + 113.8\n"
     ]
    }
   ],
   "source": [
    "#EXAMPLE EXPLAINED\n",
    "\n",
    "import numpy as np\n",
    "import matplotlib.pyplot as plt\n",
    "\n",
    "x = [1 ,2 ,3 ,5 ,6 ,7 ,8 ,9 ,10 ,12 ,13 ,14 ,15 ,16 ,18 ,19 ,21 ,22 ]\n",
    "y = [100 ,90 ,80 ,60 ,60 ,55 ,60 ,65 ,70 ,70 ,75 ,76 ,78 ,79 ,90 ,99 ,99 ,100 ]\n",
    "\n",
    "#NumPy has a method that lets us make a polynomial model:\n",
    "mymodel = np.poly1d(np.polyfit(x, y, 3 ))\n",
    "\n",
    "#Then specify how the line will display, we start at position 1, and end at position 22:\n",
    "myline = np.linspace(1 , 22 , 100 )\n",
    "\n",
    "#Draw the original scatter plot:\n",
    "plt.scatter(x, y, color='#FF4500')\n",
    "\n",
    "#Draw the line of polynomial regression:\n",
    "plt.plot(myline, mymodel(myline),  color='#8A2BE2')1\n",
    "\n",
    "#Display the diagram:\n",
    "plt.show()\n",
    "\n",
    "print(mymodel)"
   ]
  }
 ],
 "metadata": {
  "kernelspec": {
   "display_name": "Python 3.11.0 64-bit",
   "language": "python",
   "name": "python3"
  },
  "language_info": {
   "codemirror_mode": {
    "name": "ipython",
    "version": 3
   },
   "file_extension": ".py",
   "mimetype": "text/x-python",
   "name": "python",
   "nbconvert_exporter": "python",
   "pygments_lexer": "ipython3",
   "version": "3.11.0"
  },
  "vscode": {
   "interpreter": {
    "hash": "8a6fb25ab973e7af4ce5799d761b804d36a925aace5959abb7531dd752a081b8"
   }
  }
 },
 "nbformat": 4,
 "nbformat_minor": 5
}