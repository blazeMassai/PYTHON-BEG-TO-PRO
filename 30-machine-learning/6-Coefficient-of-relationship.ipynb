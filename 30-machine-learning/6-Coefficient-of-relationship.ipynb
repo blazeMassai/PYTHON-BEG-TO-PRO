{
 "cells": [
  {
   "cell_type": "markdown",
   "id": "9af8b931",
   "metadata": {},
   "source": [
    "## R for Relationship\n",
    "It is important to know how the relationship between the values of the x-axis and the values of the y-axis\n",
    "is, if there are no relationship the linear regression can not be used to predict anything.\n",
    "This relationship - the coefficient of correlation - is called r .\n",
    "The r value ranges from 0 to 1, where 0 means no relationship, and 1 means 100% related.\n",
    "Python and the Scipy module will compute this value for you, all you have to do is feed it with the x and y\n",
    "values."
   ]
  },
  {
   "cell_type": "code",
   "execution_count": 1,
   "id": "6b2394f7",
   "metadata": {},
   "outputs": [
    {
     "name": "stdout",
     "output_type": "stream",
     "text": [
      "-0.758591524376155\n"
     ]
    }
   ],
   "source": [
    "# Example\n",
    "# How well does my data fit in a linear regression?\n",
    "\n",
    "from scipy import stats\n",
    "\n",
    "x=[5 ,7 ,8 ,7 ,2 ,17 ,2 ,9 ,4 ,11 ,12 ,9 ,6 ]\n",
    "y = [99 ,86 ,87 ,88 ,111 ,86 ,103 ,87 ,94 ,78 ,77 ,85 ,86 ]\n",
    "\n",
    "slope, intercept, r, p, std_err=stats.linregress(x, y)\n",
    "\n",
    "print(r)"
   ]
  },
  {
   "cell_type": "markdown",
   "id": "0cc98554",
   "metadata": {},
   "source": [
    "## Predict Future Values\n",
    "Now we can use the information we have gathered to predict future values.\n",
    "Example: Let us try to predict the speed of a 10 years old car.\n",
    "To do so, we need the same myfunc( ) function from the example above:\n",
    "\n",
    "def myfunc(x):\n",
    "    return slope * x + intercept"
   ]
  }
 ],
 "metadata": {
  "kernelspec": {
   "display_name": "Python 3 (ipykernel)",
   "language": "python",
   "name": "python3"
  },
  "language_info": {
   "codemirror_mode": {
    "name": "ipython",
    "version": 3
   },
   "file_extension": ".py",
   "mimetype": "text/x-python",
   "name": "python",
   "nbconvert_exporter": "python",
   "pygments_lexer": "ipython3",
   "version": "3.10.4"
  }
 },
 "nbformat": 4,
 "nbformat_minor": 5
}
