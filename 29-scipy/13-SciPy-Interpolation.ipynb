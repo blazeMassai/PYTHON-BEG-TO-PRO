{
 "cells": [
  {
   "cell_type": "markdown",
   "id": "99fe50c3",
   "metadata": {},
   "source": [
    "## What is Interpolation?\n",
    "Interpolation is a method for generating points between given points.\n",
    "For example: for points 1 and 2, we may interpolate and find points 1.33 and 1.66.\n",
    "Interpolation has many usage, in Machine Learning we often deal with missing data in a dataset,\n",
    "interpolation is often used to substitute those values.\n",
    "This method of filling values is called imputation .\n",
    "Apart from imputation, interpolation is often used where we need to smooth the discrete points in a\n",
    "dataset."
   ]
  },
  {
   "cell_type": "markdown",
   "id": "13b57585",
   "metadata": {},
   "source": [
    "## How to Implement it in SciPy?\n",
    "SciPy provides us with a module called scipy.interpolat e which has many functions to deal with\n",
    "interpolation:"
   ]
  },
  {
   "cell_type": "markdown",
   "id": "70512df8",
   "metadata": {},
   "source": [
    "## 1D Interpolation\n",
    "The function interp1d( ) is used to interpolate a distribution with 1 variable.\n",
    "It takes x and y points and returns a callable function that can be called with new x and returns\n",
    "corresponding y "
   ]
  },
  {
   "cell_type": "code",
   "execution_count": 1,
   "id": "5d342b42",
   "metadata": {},
   "outputs": [
    {
     "name": "stdout",
     "output_type": "stream",
     "text": [
      "[5.2 5.4 5.6 5.8 6.  6.2 6.4 6.6 6.8]\n"
     ]
    }
   ],
   "source": [
    "#Example\n",
    "#For given xs and ys interpolate values from 2.1, 2.2... to 2.9:\n",
    "\n",
    "from scipy.interpolate import interp1d\n",
    "import numpy as np\n",
    "\n",
    "xs = np.arange(10 )\n",
    "\n",
    "ys = 2 *xs + 1\n",
    "\n",
    "interp_func=interp1d(xs, ys)\n",
    "\n",
    "newarr = interp_func(np.arange(2.1 , 3 , 0.1 ))\n",
    "\n",
    "print (newarr)"
   ]
  },
  {
   "cell_type": "markdown",
   "id": "945470bd",
   "metadata": {},
   "source": [
    "## SPLINE INTERPOLATION \n",
    "\n",
    "In 1D interpolation the points are fitted for a single curve whereas in Spline interpolation the points are\n",
    "fitted against a piecewise function defined with polynomials called splines.\n",
    "The UnivariateSpline( ) function takes x s and y s and produce a callable funciton that can be called with\n",
    "new x s .\n",
    "\n",
    "Piecewise function: A function that has different definition for different ranges."
   ]
  },
  {
   "cell_type": "markdown",
   "id": "1cbb9afa",
   "metadata": {},
   "source": [
    "Example\n",
    "Find univariate spline interpolation for 2.1, 2.2... 2.9 for the following non linear points:"
   ]
  },
  {
   "cell_type": "code",
   "execution_count": 1,
   "id": "393a93f6",
   "metadata": {},
   "outputs": [
    {
     "name": "stdout",
     "output_type": "stream",
     "text": [
      "[5.62826474 6.03987348 6.47131994 6.92265019 7.3939103  7.88514634\n",
      " 8.39640439 8.92773053 9.47917082]\n"
     ]
    }
   ],
   "source": [
    "from scipy.interpolate import UnivariateSpline\n",
    "import numpy as np\n",
    "\n",
    "\n",
    "xs = np.arange(10)\n",
    "ys = xs**2 + np.sin(xs) + 1\n",
    "interp_func = UnivariateSpline(xs, ys)\n",
    "\n",
    "newarr = interp_func(np.arange(2.1 , 3 , 0.1 ))\n",
    "print(newarr)"
   ]
  },
  {
   "cell_type": "markdown",
   "id": "64e11c14",
   "metadata": {},
   "source": [
    "## Interpolation with Radial Basis Function\n",
    "\n",
    "Radial basis function is a function that is defined corresponding to a fixed reference point.\n",
    "The Rbf( ) function also takes x s and y s as arguments and produces a callable function that can be\n",
    "called with new x s ."
   ]
  },
  {
   "cell_type": "code",
   "execution_count": 2,
   "id": "fd3a1fa5",
   "metadata": {},
   "outputs": [
    {
     "name": "stdout",
     "output_type": "stream",
     "text": [
      "[6.25748981 6.62190817 7.00310702 7.40121814 7.8161443  8.24773402\n",
      " 8.69590519 9.16070828 9.64233874]\n"
     ]
    }
   ],
   "source": [
    "## interpolate following xs and ys using rbf and find values for 2.1, 2.2, ...2.9:\n",
    "\n",
    "from scipy.interpolate import Rbf\n",
    "import numpy as np\n",
    "\n",
    "xs=np.arange(10)\n",
    "\n",
    "ys=xs**2 + np.sin(xs) + 1\n",
    "\n",
    "interp_func=Rbf(xs, ys)\n",
    "\n",
    "newarr=interp_func(np.arange(2.1,3,0.1))\n",
    "\n",
    "print(newarr)"
   ]
  }
 ],
 "metadata": {
  "kernelspec": {
   "display_name": "Python 3 (ipykernel)",
   "language": "python",
   "name": "python3"
  },
  "language_info": {
   "codemirror_mode": {
    "name": "ipython",
    "version": 3
   },
   "file_extension": ".py",
   "mimetype": "text/x-python",
   "name": "python",
   "nbconvert_exporter": "python",
   "pygments_lexer": "ipython3",
   "version": "3.10.4"
  }
 },
 "nbformat": 4,
 "nbformat_minor": 5
}
