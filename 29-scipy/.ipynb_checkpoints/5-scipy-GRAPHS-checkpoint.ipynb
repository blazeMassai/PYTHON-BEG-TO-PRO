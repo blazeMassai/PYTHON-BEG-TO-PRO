{
 "cells": [
  {
   "cell_type": "markdown",
   "id": "a47fe14d",
   "metadata": {},
   "source": [
    "Graphs are an essential data structure\n",
    "SciPy provides us with the module scipy.sparse.csgraph for working with such data structures."
   ]
  },
  {
   "cell_type": "markdown",
   "id": "8e30f076",
   "metadata": {},
   "source": [
    "Adjacency Matrix\n",
    "Adjacency matrix is a nx n matrix where n is the number of elements in a graph.\n",
    "And the values represents the connection between the elements.\n",
    "For a graph like this, with elements A, B and C, the connections are:\n",
    "A & B are connected with weight 1.\n",
    "A & C are connected with weight 2.\n",
    "C & B is not connected.\n",
    "The Adjency Matrix would look like this:\n",
    "   A B C\n",
    "A:[0 1 2]\n",
    "B:[1 0 0]\n",
    "C:[2 0 0]"
   ]
  },
  {
   "cell_type": "markdown",
   "id": "8a71927d",
   "metadata": {},
   "source": [
    "# Connected Components"
   ]
  },
  {
   "cell_type": "code",
   "execution_count": 15,
   "id": "c23e5ca7",
   "metadata": {},
   "outputs": [
    {
     "name": "stdout",
     "output_type": "stream",
     "text": [
      "  (0, 1)\t1\n",
      "  (0, 2)\t2\n",
      "  (1, 0)\t1\n",
      "  (2, 0)\t2\n",
      "******************\n",
      "  (0, 0)\t1\n",
      "  (1, 1)\t2\n",
      "  (2, 0)\t1\n",
      "  (2, 2)\t1\n",
      "******************\n",
      "(1, array([0, 0, 0]))\n",
      "(2, array([0, 1, 0]))\n"
     ]
    }
   ],
   "source": [
    "#Find all of the connected components with the connected_components( ) method.\n",
    "\n",
    "import numpy as np\n",
    "from scipy.sparse.csgraph import connected_components\n",
    "from scipy.sparse import csr_matrix\n",
    "\n",
    "\n",
    "a = np.array([  [0 , 1 , 2 ],\n",
    "                [1 , 0 , 0 ],\n",
    "                [2 , 0 , 0 ]\n",
    "              ])\n",
    "\n",
    "b = np.array([ \n",
    "\n",
    "  [1, 0, 0], \n",
    "\n",
    "  [0, 2, 0], \n",
    "\n",
    "  [1, 0, 1] \n",
    "\n",
    "]) \n",
    "\n",
    "new_a = csr_matrix(a)\n",
    "new_b = csr_matrix(b)\n",
    "print(new_a)\n",
    "print('******************')\n",
    "print(new_b)\n",
    "print('******************')\n",
    "print(connected_components(new_a, connection='strong'))\n",
    "print(connected_components(new_b))"
   ]
  }
 ],
 "metadata": {
  "kernelspec": {
   "display_name": "Python 3 (ipykernel)",
   "language": "python",
   "name": "python3"
  },
  "language_info": {
   "codemirror_mode": {
    "name": "ipython",
    "version": 3
   },
   "file_extension": ".py",
   "mimetype": "text/x-python",
   "name": "python",
   "nbconvert_exporter": "python",
   "pygments_lexer": "ipython3",
   "version": "3.10.4"
  }
 },
 "nbformat": 4,
 "nbformat_minor": 5
}
