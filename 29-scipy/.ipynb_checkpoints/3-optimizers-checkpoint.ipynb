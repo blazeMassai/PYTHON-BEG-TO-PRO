{
 "cells": [
  {
   "cell_type": "markdown",
   "id": "9468bd1b",
   "metadata": {},
   "source": [
    "#Optimizers are a set of procedures defined in SciPy that either find the minimum value of a function,\n",
    "#or the root of an equation.\n",
    "\n",
    "Roots of an Equation\n",
    "NumPy is capable of finding roots for polynomials and linear equations, but it can not find roots for non\n",
    "linear equations, like this one:\n",
    "\n",
    "x + cos(x)\n",
    "For that you can use SciPy's optimze.roo t function.\n",
    "This function takes two required arguments:\n",
    "fun - a function representing an equation.\n",
    "x0 - an initial guess for the root.\n",
    "The function returns an object with information regarding the solution.\n",
    "The actual solution is given under attribute x of the returned object:"
   ]
  },
  {
   "cell_type": "code",
   "execution_count": 1,
   "id": "e4fa88a8",
   "metadata": {},
   "outputs": [
    {
     "name": "stdout",
     "output_type": "stream",
     "text": [
      "[-0.73908513]\n"
     ]
    }
   ],
   "source": [
    "#Find root of the equation x + cos(x )  \n",
    "from scipy.optimize import root\n",
    "from math import cos\n",
    "\n",
    "def eqn(x):\n",
    "    return x + cos(x)\n",
    "\n",
    "myroot = root(eqn, 0)\n",
    "\n",
    "print(myroot.x)"
   ]
  }
 ],
 "metadata": {
  "kernelspec": {
   "display_name": "Python 3 (ipykernel)",
   "language": "python",
   "name": "python3"
  },
  "language_info": {
   "codemirror_mode": {
    "name": "ipython",
    "version": 3
   },
   "file_extension": ".py",
   "mimetype": "text/x-python",
   "name": "python",
   "nbconvert_exporter": "python",
   "pygments_lexer": "ipython3",
   "version": "3.10.4"
  }
 },
 "nbformat": 4,
 "nbformat_minor": 5
}
