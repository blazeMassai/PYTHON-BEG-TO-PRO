{
 "cells": [
  {
   "cell_type": "code",
   "execution_count": 1,
   "id": "14cf0ec5",
   "metadata": {},
   "outputs": [],
   "source": [
    "from scipy import constants\n",
    "import scipy"
   ]
  },
  {
   "cell_type": "markdown",
   "id": "42f35eb5",
   "metadata": {},
   "source": [
    "# CONSTANTS"
   ]
  },
  {
   "cell_type": "code",
   "execution_count": 2,
   "id": "1c0b6272",
   "metadata": {},
   "outputs": [
    {
     "name": "stdout",
     "output_type": "stream",
     "text": [
      "1024\n",
      "1048576\n",
      "1073741824\n",
      "1099511627776\n",
      "1125899906842624\n",
      "1152921504606846976\n",
      "1180591620717411303424\n",
      "1208925819614629174706176\n",
      "0.001\n",
      "1000.0\n",
      "6.479891e-05\n",
      "0.45359236999999997\n",
      "0.45359236999999997\n",
      "0.028349523124999998\n",
      "0.028349523124999998\n",
      "6.3502931799999995\n",
      "1016.0469088\n",
      "907.1847399999999\n",
      "0.031103476799999998\n",
      "0.37324172159999996\n",
      "0.0002\n",
      "1.6605390666e-27\n",
      "1.6605390666e-27\n",
      "1.6605390666e-27\n"
     ]
    }
   ],
   "source": [
    "# BINARY PREFIXES\n",
    "print (constants.kibi) #1024\n",
    "print (constants.mebi) #1048576\n",
    "print (constants.gibi) #1073741824\n",
    "print (constants.tebi) #1099511627776\n",
    "print (constants.pebi) #1125899906842624\n",
    "print (constants.exbi) #1152921504606846976\n",
    "print (constants.zebi) #1180591620717411303424\n",
    "print (constants.yobi) #1208925819614629174706176\n",
    "\n",
    "#MASS\n",
    "print (constants.gram) #0.001\n",
    "print (constants.metric_ton) #1000.0\n",
    "print (constants.grain) #6.479891e-05\n",
    "print (constants.lb) #0.45359236999999997\n",
    "print (constants.pound) #0.45359236999999997\n",
    "print (constants.oz) #0.028349523124999998\n",
    "print (constants.ounce) #0.028349523124999998\n",
    "print (constants.stone) #6.3502931799999995\n",
    "print (constants.long_ton) #1016.0469088\n",
    "print (constants.short_ton) #907.1847399999999\n",
    "print (constants.troy_ounce) #0.031103476799999998\n",
    "print (constants.troy_pound) #0.37324172159999996\n",
    "print (constants.carat) #0.0002\n",
    "print (constants.atomic_mass) #1.66053904e-27\n",
    "print (constants.m_u) #1.66053904e-27\n",
    "print (constants.u) #1.66053904e-27"
   ]
  },
  {
   "cell_type": "code",
   "execution_count": 3,
   "id": "559ece4c",
   "metadata": {},
   "outputs": [
    {
     "name": "stdout",
     "output_type": "stream",
     "text": [
      "0.017453292519943295\n",
      "0.0002908882086657216\n",
      "0.0002908882086657216\n",
      "4.84813681109536e-06\n",
      "4.84813681109536e-06\n",
      "60.0\n",
      "3600.0\n",
      "86400.0\n",
      "604800.0\n",
      "31536000.0\n",
      "31557600.0\n"
     ]
    }
   ],
   "source": [
    "#ANGLE\n",
    "print (constants.degree) #0.017453292519943295\n",
    "print (constants.arcmin) #0.0002908882086657216\n",
    "print (constants.arcminute) #0.0002908882086657216\n",
    "print (constants.arcsec) #4.84813681109536e-06\n",
    "print (constants.arcsecond) #4.84813681109536e-06\n",
    "\n",
    "#TIME\n",
    "print (constants.minute) #60.0\n",
    "print (constants.hour) #3600.0\n",
    "print (constants.day)  #86400.0\n",
    "print (constants.week) #604800.0\n",
    "print (constants.year) #31536000.0\n",
    "print (constants.Julian_year) #31557600.0\n"
   ]
  },
  {
   "cell_type": "code",
   "execution_count": 4,
   "id": "cbfeae35",
   "metadata": {},
   "outputs": [
    {
     "name": "stdout",
     "output_type": "stream",
     "text": [
      "0.0254\n",
      "0.30479999999999996\n",
      "0.9143999999999999\n",
      "1609.3439999999998\n",
      "2.5399999999999997e-05\n",
      "0.00035277777777777776\n",
      "0.00035277777777777776\n",
      "0.3048006096012192\n",
      "1609.3472186944373\n",
      "1852.0\n",
      "1e-15\n",
      "1e-10\n",
      "1e-06\n",
      "149597870700.0\n",
      "149597870700.0\n",
      "9460730472580800.0\n",
      "3.085677581491367e+16\n",
      "101325.0\n",
      "101325.0\n",
      "100000.0\n",
      "133.32236842105263\n",
      "133.32236842105263\n",
      "6894.757293168361\n",
      "10000.0\n",
      "4046.8564223999992\n",
      "0.5555555555555556\n"
     ]
    }
   ],
   "source": [
    "#LENGTH\n",
    "print (constants.inch) #0.0254\n",
    "print (constants.foot) #0.30479999999999996\n",
    "print (constants.yard) #0.9143999999999999\n",
    "print (constants.mile) #1609.3439999999998\n",
    "print (constants.mil)  #2.5399999999999997e-05\n",
    "print (constants.pt) #0.00035277777777777776\n",
    "print (constants.point) #0.00035277777777777776\n",
    "print (constants.survey_foot) #0.3048006096012192\n",
    "print (constants.survey_mile) #1609.3472186944373\n",
    "print (constants.nautical_mile) #1852.0\n",
    "print (constants.fermi) #1e-15\n",
    "print (constants.angstrom) #1e-10\n",
    "print (constants.micron) #1e-06\n",
    "print (constants.au) #149597870691.0\n",
    "print (constants.astronomical_unit) #149597870691.0\n",
    "print (constants.light_year)  #9460730472580800.0\n",
    "print (constants.parsec) #3.0856775813057292e+16\n",
    "\n",
    "#PRESSURE\n",
    "print (constants.atm) #101325.0\n",
    "print (constants.atmosphere) #101325.0\n",
    "print (constants.bar) #100000.0\n",
    "print (constants.torr) #133.32236842105263\n",
    "print (constants.mmHg) #133.32236842105263\n",
    "print (constants.psi) #6894.757293168361\n",
    "\n",
    "#AREA\n",
    "print (constants.hectare) #10000.0\n",
    "print (constants.acre) #4046.8564223999992\n",
    "\n",
    "\n",
    "print (constants.degree_Fahrenheit) #0.5555555555555556"
   ]
  },
  {
   "cell_type": "code",
   "execution_count": 5,
   "id": "0855e1e7",
   "metadata": {},
   "outputs": [
    {
     "name": "stdout",
     "output_type": "stream",
     "text": [
      "0.001\n",
      "0.001\n",
      "0.0037854117839999997\n",
      "0.0037854117839999997\n",
      "0.00454609\n",
      "2.9573529562499998e-05\n",
      "2.9573529562499998e-05\n",
      "2.84130625e-05\n",
      "0.15898729492799998\n",
      "0.15898729492799998\n",
      "0.2777777777777778\n",
      "0.44703999999999994\n",
      "340.5\n",
      "340.5\n",
      "0.5144444444444445\n",
      "273.15\n"
     ]
    }
   ],
   "source": [
    "#VOLUME\n",
    "print (constants.liter) #0.001\n",
    "print (constants.litre) #0.001\n",
    "print (constants.gallon) #0.0037854117839999997\n",
    "print (constants.gallon_US) #0.0037854117839999997\n",
    "print (constants.gallon_imp) #0.00454609\n",
    "print (constants.fluid_ounce) #2.9573529562499998e-05\n",
    "print (constants.fluid_ounce_US) #2.9573529562499998e-05\n",
    "print (constants.fluid_ounce_imp) #2.84130625e-05\n",
    "print (constants.barrel) #0.15898729492799998\n",
    "print (constants.bbl) #0.15898729492799998\n",
    "\n",
    "#SPEED\n",
    "print (constants.kmh) #0.2777777777777778\n",
    "print (constants.mph) #0.44703999999999994\n",
    "print (constants.mach) #340.5\n",
    "print (constants.speed_of_sound) #340.5\n",
    "print (constants.knot) #0.5144444444444445\n",
    "\n",
    "\n",
    "#TEMPERATURE\n",
    "print (constants.zero_Celsius) #273.15"
   ]
  },
  {
   "cell_type": "code",
   "execution_count": 6,
   "id": "63b44acd",
   "metadata": {},
   "outputs": [
    {
     "name": "stdout",
     "output_type": "stream",
     "text": [
      "1.602176634e-19\n",
      "1.602176634e-19\n",
      "4.184\n",
      "4.184\n",
      "4.1868\n",
      "1e-07\n",
      "1055.05585262\n",
      "1055.05585262\n",
      "1054.3502644888888\n",
      "4184000000.0\n",
      "745.6998715822701\n",
      "745.6998715822701\n",
      "1e-05\n",
      "1e-05\n",
      "4.4482216152605\n",
      "4.4482216152605\n",
      "9.80665\n",
      "9.80665\n"
     ]
    }
   ],
   "source": [
    "\n",
    "#ENERGY\n",
    "print (constants.eV) #1.6021766208e-19\n",
    "print (constants.electron_volt) #1.6021766208e-19\n",
    "print (constants.calorie) #4.184\n",
    "print (constants.calorie_th) #4.184\n",
    "print (constants.calorie_IT) #4.1868\n",
    "print (constants.erg) #1e-07\n",
    "print (constants.Btu) #1055.05585262\n",
    "print (constants.Btu_IT) #1055.05585262\n",
    "print (constants.Btu_th) #1054.3502644888888\n",
    "print (constants.ton_TNT) #4184000000.0\n",
    "\n",
    "\n",
    "#POWER\n",
    "print (constants.hp) #745.6998715822701\n",
    "print (constants.horsepower) #745.6998715822701\n",
    "\n",
    "\n",
    "#FORCE\n",
    "print (constants.dyn) #1e-05\n",
    "print (constants.dyne) #1e-05\n",
    "print (constants.lbf)  #4.4482216152605\n",
    "print (constants.pound_force) #4.4482216152605\n",
    "print (constants.kgf) #9.80665\n",
    "print (constants.kilogram_force) #9.80665"
   ]
  }
 ],
 "metadata": {
  "kernelspec": {
   "display_name": "Python 3 (ipykernel)",
   "language": "python",
   "name": "python3"
  },
  "language_info": {
   "codemirror_mode": {
    "name": "ipython",
    "version": 3
   },
   "file_extension": ".py",
   "mimetype": "text/x-python",
   "name": "python",
   "nbconvert_exporter": "python",
   "pygments_lexer": "ipython3",
   "version": "3.10.4"
  }
 },
 "nbformat": 4,
 "nbformat_minor": 5
}
