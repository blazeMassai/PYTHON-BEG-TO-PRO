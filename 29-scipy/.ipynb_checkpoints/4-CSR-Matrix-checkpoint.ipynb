{
 "cells": [
  {
   "cell_type": "code",
   "execution_count": 1,
   "id": "772e313b",
   "metadata": {},
   "outputs": [],
   "source": [
    "import numpy as np\n",
    "from scipy.sparse import csr_matrix"
   ]
  },
  {
   "cell_type": "code",
   "execution_count": 3,
   "id": "186085bd",
   "metadata": {},
   "outputs": [
    {
     "name": "stdout",
     "output_type": "stream",
     "text": [
      "  (0, 5)\t1\n",
      "  (0, 6)\t1\n",
      "  (0, 8)\t2\n"
     ]
    }
   ],
   "source": [
    "arr = np.array([0,0,0,0,0,1,1,0,2])\n",
    "\n",
    "print(csr_matrix(arr))"
   ]
  },
  {
   "cell_type": "code",
   "execution_count": 4,
   "id": "12f65348",
   "metadata": {},
   "outputs": [
    {
     "name": "stdout",
     "output_type": "stream",
     "text": [
      "  (0, 0)\t1\n",
      "  (0, 1)\t2\n",
      "  (0, 2)\t3\n",
      "  (0, 3)\t4\n",
      "  (1, 0)\t5\n",
      "  (1, 1)\t6\n",
      "  (1, 2)\t7\n",
      "  (1, 3)\t8\n"
     ]
    }
   ],
   "source": [
    "a=np.array([[1,2,3,4],[5,6,7,8]])\n",
    "print(csr_matrix(a))"
   ]
  },
  {
   "cell_type": "markdown",
   "id": "94d3caf4",
   "metadata": {},
   "source": [
    "# SPARSE MATRIX METHODS"
   ]
  },
  {
   "cell_type": "markdown",
   "id": "83bc22e1",
   "metadata": {},
   "source": [
    "Viewing stored data (not the zero items) with the dat a property:"
   ]
  },
  {
   "cell_type": "code",
   "execution_count": 5,
   "id": "26aeebfe",
   "metadata": {},
   "outputs": [],
   "source": [
    "import numpy as np\n",
    "from scipy.sparse import csr_matrix"
   ]
  },
  {
   "cell_type": "code",
   "execution_count": 6,
   "id": "45bb529c",
   "metadata": {},
   "outputs": [
    {
     "name": "stdout",
     "output_type": "stream",
     "text": [
      "[1 1 2]\n"
     ]
    }
   ],
   "source": [
    "a=np.array([[0 , 0 , 0 ], [0 , 0 , 1 ], [1 , 0 , 2 ]])\n",
    "print(csr_matrix(a).data)"
   ]
  },
  {
   "cell_type": "code",
   "execution_count": 12,
   "id": "74081757",
   "metadata": {},
   "outputs": [
    {
     "name": "stdout",
     "output_type": "stream",
     "text": [
      "4\n",
      "  (0, 1)\t1\n",
      "  (1, 2)\t1\n",
      "  (2, 0)\t1\n",
      "  (2, 2)\t2\n"
     ]
    }
   ],
   "source": [
    "#Counting nonzeros with the count_nonzero( ) method:\n",
    "#Removing zero-entries from the matrix with the eliminate_zeros( ) method:\n",
    "\n",
    "a=np.array([[0 , 1 , 0 ], [0 , 0 , 1 ], [1 , 0 , 2 ]])\n",
    "ab=np.array([[0 , 1 , 0 ], [0 , 0 , 1 ], [1 , 0 , 2 ]])\n",
    "print(csr_matrix(a).count_nonzero())\n",
    "mat=csr_matrix(ab)\n",
    "mat.eliminate_zeros()\n",
    "print(mat)"
   ]
  },
  {
   "cell_type": "code",
   "execution_count": 13,
   "id": "d872c815",
   "metadata": {},
   "outputs": [
    {
     "name": "stdout",
     "output_type": "stream",
     "text": [
      "  (1, 2)\t1\n",
      "  (2, 0)\t1\n",
      "  (2, 2)\t2\n"
     ]
    }
   ],
   "source": [
    "#Eliminating duplicate entries with the sum_duplicates( ) method:\n",
    "ac = np.array([[0 , 0 , 0 ], [0 , 0 , 1 ], [1 , 0 , 2 ]])\n",
    "\n",
    "mat = csr_matrix(ac)\n",
    "mat.sum_duplicates()\n",
    "print(mat)"
   ]
  },
  {
   "cell_type": "markdown",
   "id": "6d30c56e",
   "metadata": {},
   "source": [
    "# Converting from csr to csc with the tocsc( ) method:"
   ]
  },
  {
   "cell_type": "code",
   "execution_count": 14,
   "id": "5fd5b0af",
   "metadata": {},
   "outputs": [
    {
     "name": "stdout",
     "output_type": "stream",
     "text": [
      "  (2, 0)\t1\n",
      "  (1, 2)\t1\n",
      "  (2, 2)\t2\n"
     ]
    }
   ],
   "source": [
    "ad = np.array([[0 , 0 , 0 ], [0 , 0 , 1 ], [1 , 0 , 2 ]])\n",
    "new_ad=csr_matrix(ad).tocsc()\n",
    "\n",
    "print(new_ad)"
   ]
  }
 ],
 "metadata": {
  "kernelspec": {
   "display_name": "Python 3 (ipykernel)",
   "language": "python",
   "name": "python3"
  },
  "language_info": {
   "codemirror_mode": {
    "name": "ipython",
    "version": 3
   },
   "file_extension": ".py",
   "mimetype": "text/x-python",
   "name": "python",
   "nbconvert_exporter": "python",
   "pygments_lexer": "ipython3",
   "version": "3.10.4"
  }
 },
 "nbformat": 4,
 "nbformat_minor": 5
}
