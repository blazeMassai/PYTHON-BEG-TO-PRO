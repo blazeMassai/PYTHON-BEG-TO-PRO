{
 "cells": [
  {
   "cell_type": "code",
   "execution_count": 3,
   "id": "00b8faa8",
   "metadata": {},
   "outputs": [
    {
     "name": "stdout",
     "output_type": "stream",
     "text": [
      "(array([0, 1, 2, 3]), array([-9999,     0,     1,     1]))\n"
     ]
    }
   ],
   "source": [
    "#The depth_first_order( ) method returns a depth first traversal from a node.\n",
    "# This function takes following arguments:\n",
    "\n",
    "# 1. the graph.\n",
    "# 2. the starting element to traverse graph from.\n",
    "\n",
    "import numpy as np\n",
    "from scipy.sparse.csgraph import depth_first_order\n",
    "from scipy.sparse import csr_matrix\n",
    "\n",
    "a = np.array([\n",
    "[0 , 1 , 0 , 1 ],\n",
    "[1 , 1 , 1 , 1 ],\n",
    "[2 , 1 , 1 , 0 ],\n",
    "[0 , 1 , 0 , 1 ]\n",
    "])\n",
    "\n",
    "new_a=csr_matrix(a)\n",
    "print(depth_first_order(new_a,0))"
   ]
  },
  {
   "cell_type": "markdown",
   "id": "62f99df5",
   "metadata": {},
   "source": [
    "# BREADTH FIRST ORDER"
   ]
  },
  {
   "cell_type": "markdown",
   "id": "e214f696",
   "metadata": {},
   "source": [
    "The breadth_first_order( ) method returns a breadth first traversal from a node.\n",
    "This function takes following arguments:\n",
    "1. the graph.\n",
    "2. the starting element to traverse graph from."
   ]
  },
  {
   "cell_type": "code",
   "execution_count": 4,
   "id": "6402c3fb",
   "metadata": {},
   "outputs": [
    {
     "name": "stdout",
     "output_type": "stream",
     "text": [
      "(array([1, 0, 2, 3]), array([    1, -9999,     1,     1]))\n"
     ]
    }
   ],
   "source": [
    "from scipy.sparse.csgraph import breadth_first_order\n",
    "\n",
    "b = np.array([\n",
    "[0 , 1 , 0 , 1 ],\n",
    "[1 , 1 , 1 , 1 ],\n",
    "[2 , 1 , 1 , 0 ],\n",
    "[0 , 1 , 0 , 1 ]\n",
    "])\n",
    "\n",
    "new_b=csr_matrix(b)\n",
    "print(breadth_first_order(new_b, 1))"
   ]
  }
 ],
 "metadata": {
  "kernelspec": {
   "display_name": "Python 3 (ipykernel)",
   "language": "python",
   "name": "python3"
  },
  "language_info": {
   "codemirror_mode": {
    "name": "ipython",
    "version": 3
   },
   "file_extension": ".py",
   "mimetype": "text/x-python",
   "name": "python",
   "nbconvert_exporter": "python",
   "pygments_lexer": "ipython3",
   "version": "3.10.4"
  }
 },
 "nbformat": 4,
 "nbformat_minor": 5
}
