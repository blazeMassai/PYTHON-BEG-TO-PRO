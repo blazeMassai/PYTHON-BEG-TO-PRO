{
 "cells": [
  {
   "cell_type": "markdown",
   "id": "d45492dc",
   "metadata": {},
   "source": [
    "# Working With Matlab Arrays"
   ]
  },
  {
   "cell_type": "markdown",
   "id": "cf759189",
   "metadata": {},
   "source": [
    "#We know that NumPy provides us with methods to persist the data in readable formats for Python. But\n",
    "SciPy provides us with interoperability with Matlab as well.\n",
    "SciPy provides us with the module scipy.i o , which has functions for working with Matlab arrays."
   ]
  },
  {
   "cell_type": "markdown",
   "id": "65c904fe",
   "metadata": {},
   "source": [
    "# Exporting Data in Matlab Format"
   ]
  },
  {
   "cell_type": "markdown",
   "id": "b77d4c72",
   "metadata": {},
   "source": [
    "The savemat( ) function allows us to export data in Matlab format.\n",
    "The method takes the following parameters:\n",
    "1. filename - the file name for saving data.\n",
    "2. mdict - a dictionary containing the data.\n",
    "3. do_compression - a boolean value that specifies wheter to compress the result or not. Default\n",
    "False."
   ]
  },
  {
   "cell_type": "code",
   "execution_count": 2,
   "id": "83d8388c",
   "metadata": {},
   "outputs": [
    {
     "name": "stdout",
     "output_type": "stream",
     "text": [
      "[0 1 2 3 4 5 6 7 8 9]\n"
     ]
    }
   ],
   "source": [
    "#Export the following array as variable name \"vec\" to a mat file:\n",
    "\n",
    "from scipy import io\n",
    "import numpy as np\n",
    "\n",
    "arr=np.arange(10)\n",
    "print(arr)\n",
    "\n",
    "io.savemat('arr.mat', {\"vec\":arr})"
   ]
  },
  {
   "cell_type": "markdown",
   "id": "a8040f60",
   "metadata": {},
   "source": [
    "# Import Data from Matlab Format\n",
    "\n",
    "The loadmat( ) function allows us to import data from a Matlab file.\n",
    "The function takes one required parameter:\n",
    "filename - the file name of the saved data.\n",
    "It will return a structured array whose keys are the variable names, and the corresponding values are the\n",
    "variable values."
   ]
  },
  {
   "cell_type": "code",
   "execution_count": 8,
   "id": "683b23e5",
   "metadata": {},
   "outputs": [
    {
     "name": "stdout",
     "output_type": "stream",
     "text": [
      "{'__header__': b'MATLAB 5.0 MAT-file Platform: nt, Created on: Thu Sep  8 13:37:10 2022', '__version__': '1.0', '__globals__': [], 'vec': array([[0, 1, 2, 3, 4, 5, 6, 7, 8, 9]])}\n",
      "-------------------------------\n",
      "[[0 1 2 3 4 5 6 7 8 9]]\n",
      "-------------------------------\n",
      "{'__header__': b'MATLAB 5.0 MAT-file Platform: nt, Created on: Thu Sep  8 13:37:10 2022', '__version__': '1.0', '__globals__': [], 'vec': array([0, 1, 2, 3, 4, 5, 6, 7, 8, 9])}\n"
     ]
    }
   ],
   "source": [
    "from scipy import io\n",
    "import numpy as np\n",
    "\n",
    "x=np.array([0 , 1 , 2 , 3 , 4 , 5 , 6 , 7 , 8 , 9 ,])\n",
    "\n",
    "io.savemat('x.mat', {\"vec\":arr})\n",
    "\n",
    "y=io.loadmat('x.mat')\n",
    "print(y)\n",
    "\n",
    "print('-------------------------------')\n",
    "#below we print only the array\n",
    "print(y['vec'])\n",
    "\n",
    "print('-------------------------------')\n",
    "\n",
    "# Note: We can see that the array originally was 1D, but on extraction it has increas\n",
    "# In order to resolve this we can pass an additional argument squeeze_me=True :\n",
    "\n",
    "xy=io.loadmat('x.mat', squeeze_me=True )\n",
    "\n",
    "print(xy['vec'])"
   ]
  }
 ],
 "metadata": {
  "kernelspec": {
   "display_name": "Python 3 (ipykernel)",
   "language": "python",
   "name": "python3"
  },
  "language_info": {
   "codemirror_mode": {
    "name": "ipython",
    "version": 3
   },
   "file_extension": ".py",
   "mimetype": "text/x-python",
   "name": "python",
   "nbconvert_exporter": "python",
   "pygments_lexer": "ipython3",
   "version": "3.10.4"
  }
 },
 "nbformat": 4,
 "nbformat_minor": 5
}
