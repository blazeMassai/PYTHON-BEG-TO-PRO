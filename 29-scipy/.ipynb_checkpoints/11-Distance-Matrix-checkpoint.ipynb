{
 "cells": [
  {
   "cell_type": "markdown",
   "id": "6529caef",
   "metadata": {},
   "source": [
    "# Distance Matrix"
   ]
  },
  {
   "cell_type": "markdown",
   "id": "5fe82e34",
   "metadata": {},
   "source": [
    "There are many Distance Metrics used to find various types of distances between two points in data\n",
    "science, Euclidean distsance, cosine distsance etc.\n",
    "The distance between two vectors may not only be the length of straight line between them, it can also be\n",
    "the angle between them from origin, or number of unit steps required etc.\n",
    "Many of the Machine Learning algorithm's performance depends greatly on distance metrices. E.g. \"K\n",
    "Nearest Neighbors\", or \"K Means\" etc.\n",
    "Let us look at some of the Distance Metrices:"
   ]
  },
  {
   "cell_type": "markdown",
   "id": "391150d7",
   "metadata": {},
   "source": [
    "# 1. Euclidean Distance"
   ]
  },
  {
   "cell_type": "code",
   "execution_count": 3,
   "id": "b46a926f",
   "metadata": {},
   "outputs": [
    {
     "name": "stdout",
     "output_type": "stream",
     "text": [
      "9.219544457292887\n"
     ]
    }
   ],
   "source": [
    "#Find the euclidean distance between given points.\n",
    "\n",
    "from scipy.spatial.distance import euclidean\n",
    "p1 = (1 , 0 )\n",
    "p2 = (10 , 2 )\n",
    "\n",
    "res=euclidean(p1,p2)\n",
    "print(res)"
   ]
  },
  {
   "cell_type": "markdown",
   "id": "91d7d068",
   "metadata": {},
   "source": [
    "# Cityblock Distance (Manhattan Distance)"
   ]
  },
  {
   "cell_type": "markdown",
   "id": "d458f760",
   "metadata": {},
   "source": [
    "Is the distance computed using 4 degrees of movement.\n",
    "E.g. we can only move: up, down, right, or left, not diagonally."
   ]
  },
  {
   "cell_type": "code",
   "execution_count": 6,
   "id": "b8dd30bd",
   "metadata": {},
   "outputs": [
    {
     "name": "stdout",
     "output_type": "stream",
     "text": [
      "11\n"
     ]
    }
   ],
   "source": [
    "from scipy.spatial.distance import cityblock\n",
    "\n",
    "p1=(1,0)\n",
    "p2=(10,2)\n",
    "\n",
    "res=cityblock(p1,p2)\n",
    "print(res)"
   ]
  },
  {
   "cell_type": "markdown",
   "id": "6f97a067",
   "metadata": {},
   "source": [
    "# Cosine Distance"
   ]
  },
  {
   "cell_type": "code",
   "execution_count": 7,
   "id": "06b7ea0b",
   "metadata": {},
   "outputs": [
    {
     "name": "stdout",
     "output_type": "stream",
     "text": [
      "0.019419324309079777\n"
     ]
    }
   ],
   "source": [
    "#Cosine Distance Is the value of cosine angle between the two points A and B.\n",
    "\n",
    "from scipy.spatial.distance import cosine\n",
    "\n",
    "p1=(1,0)\n",
    "p2=(10,2)\n",
    "\n",
    "res=cosine(p1,p2)\n",
    "print(res)"
   ]
  },
  {
   "cell_type": "markdown",
   "id": "729408a1",
   "metadata": {},
   "source": [
    "# Hamming Distance"
   ]
  },
  {
   "cell_type": "markdown",
   "id": "d51e5025",
   "metadata": {},
   "source": [
    "Is the proportion of bits where two bits are difference.\n",
    "It's a way to measure distance for binary sequences."
   ]
  },
  {
   "cell_type": "code",
   "execution_count": 8,
   "id": "81ab6993",
   "metadata": {},
   "outputs": [
    {
     "name": "stdout",
     "output_type": "stream",
     "text": [
      "0.6666666666666666\n"
     ]
    }
   ],
   "source": [
    "from scipy.spatial.distance import hamming\n",
    "\n",
    "p1 = (True , False , True )\n",
    "p2 = (False , True , True )\n",
    "\n",
    "res = hamming(p1, p2)\n",
    "print(res)"
   ]
  }
 ],
 "metadata": {
  "kernelspec": {
   "display_name": "Python 3 (ipykernel)",
   "language": "python",
   "name": "python3"
  },
  "language_info": {
   "codemirror_mode": {
    "name": "ipython",
    "version": 3
   },
   "file_extension": ".py",
   "mimetype": "text/x-python",
   "name": "python",
   "nbconvert_exporter": "python",
   "pygments_lexer": "ipython3",
   "version": "3.10.4"
  }
 },
 "nbformat": 4,
 "nbformat_minor": 5
}
