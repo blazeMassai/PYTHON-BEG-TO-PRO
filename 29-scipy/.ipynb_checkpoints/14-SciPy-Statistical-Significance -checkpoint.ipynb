{
 "cells": [
  {
   "cell_type": "markdown",
   "id": "69e2db9f",
   "metadata": {},
   "source": [
    "## SciPy Statistical Significance Tests\n",
    "\n",
    "## What is Statistical Significance Test?\n",
    "\n",
    "In statistics, statistical significance means that the result that was produced has a reason behind it, it was\n",
    "not produced randomly, or by chance.\n",
    "SciPy provides us with a module called scipy.stats , which has functions for performing statistical\n",
    "significance tests.\n",
    "\n",
    "Here are some techniques and keywords that are important when performing such tests:\n",
    "\n",
    "1. Hypothesis in Statistics\n",
    "Hypothesis is an assumption about a parameter in population.\n",
    "\n",
    "\n",
    "2. Null Hypothesis\n",
    "It assumes that the observation is not stastically significant.\n",
    "\n",
    "3. Alternate Hypothesis\n",
    "It assumes that the observations are due to some reason.\n",
    "\n",
    "Its alternate to Null Hypothesis.\n",
    "Example:\n",
    "For an assessment of a student we would take:\n",
    "\"student is worse than average\" - as a null hypothesis, and:\n",
    "\"student is better than average\" - as an alternate hypothesis."
   ]
  }
 ],
 "metadata": {
  "kernelspec": {
   "display_name": "Python 3 (ipykernel)",
   "language": "python",
   "name": "python3"
  },
  "language_info": {
   "codemirror_mode": {
    "name": "ipython",
    "version": 3
   },
   "file_extension": ".py",
   "mimetype": "text/x-python",
   "name": "python",
   "nbconvert_exporter": "python",
   "pygments_lexer": "ipython3",
   "version": "3.10.4"
  }
 },
 "nbformat": 4,
 "nbformat_minor": 5
}
