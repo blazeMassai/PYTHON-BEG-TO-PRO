{
 "cells": [
  {
   "cell_type": "markdown",
   "id": "0922ce77",
   "metadata": {},
   "source": [
    "Dijkstra\n",
    "Use the dijkstr a method to find the shortest path in a graph from one element to another.\n",
    "It takes following arguments:\n",
    "1. return_predecessors: boolean (True to return whole path of traversal otherwise False).\n",
    "2. indices: index of the element to return all paths from that element only.\n",
    "3. limit: max weight of path.\n"
   ]
  },
  {
   "cell_type": "code",
   "execution_count": 10,
   "id": "003a4be5",
   "metadata": {},
   "outputs": [
    {
     "name": "stdout",
     "output_type": "stream",
     "text": [
      "(array([0., 1., 2.]), array([-9999,     0,     0]))\n"
     ]
    }
   ],
   "source": [
    "# Example\n",
    "# Find the shortest path from element 1 to 2:\n",
    "\n",
    "import numpy as np\n",
    "from scipy.sparse.csgraph import dijkstra\n",
    "from scipy.sparse import csr_matrix\n",
    "\n",
    "a = np.array([\n",
    "[0 , 1 , 2 ],\n",
    "[1 , 0 , 0 ],\n",
    "[2 , 0 , 0 ]\n",
    "])\n",
    "\n",
    "new_a=csr_matrix(a)\n",
    "\n",
    "print(dijkstra(new_a, return_predecessors=True, indices=0))"
   ]
  },
  {
   "cell_type": "code",
   "execution_count": 8,
   "id": "d1ce04fa",
   "metadata": {},
   "outputs": [
    {
     "name": "stdout",
     "output_type": "stream",
     "text": [
      "[ 0.  7.  9. 20. 20. 11.]\n"
     ]
    }
   ],
   "source": [
    "b = np.array([[ 0,  7,  9,  0, 0, 14],\n",
    "              [ 7,  0, 10, 15, 0,  0],\n",
    "              [ 9, 10,  0, 11, 0,  2],\n",
    "              [ 0, 15, 11,  0, 6,  0],\n",
    "              [ 0,  0,  0,  6, 0,  9],\n",
    "              [14,  0,  2,  0, 9,  0]])\n",
    "\n",
    "new_b=csr_matrix(b)\n",
    "\n",
    "print(dijkstra(new_b, return_predecessors=False, indices=0))"
   ]
  }
 ],
 "metadata": {
  "kernelspec": {
   "display_name": "Python 3 (ipykernel)",
   "language": "python",
   "name": "python3"
  },
  "language_info": {
   "codemirror_mode": {
    "name": "ipython",
    "version": 3
   },
   "file_extension": ".py",
   "mimetype": "text/x-python",
   "name": "python",
   "nbconvert_exporter": "python",
   "pygments_lexer": "ipython3",
   "version": "3.10.4"
  }
 },
 "nbformat": 4,
 "nbformat_minor": 5
}
