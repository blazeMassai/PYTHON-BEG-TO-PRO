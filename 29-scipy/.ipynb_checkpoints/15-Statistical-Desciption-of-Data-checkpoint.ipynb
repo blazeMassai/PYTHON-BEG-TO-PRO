{
 "cells": [
  {
   "cell_type": "markdown",
   "id": "8ee02566",
   "metadata": {},
   "source": [
    "In order to see a summary of values in an array, we can use the describe( ) function.\n",
    "It returns the following description:\n",
    "1. number of observations (nobs)\n",
    "2. minimum and maximum values = minmax\n",
    "3. mean\n",
    "4. variance\n",
    "5. skewness\n",
    "6. kurtosis"
   ]
  },
  {
   "cell_type": "code",
   "execution_count": 1,
   "id": "744ed326",
   "metadata": {},
   "outputs": [
    {
     "name": "stdout",
     "output_type": "stream",
     "text": [
      "DescribeResult(nobs=100, minmax=(-2.2855603183062607, 2.3174850311136574), mean=-0.05140670116411071, variance=1.0372766001208904, skewness=0.056880329732975805, kurtosis=-0.5023736888378485)\n"
     ]
    }
   ],
   "source": [
    "import numpy as np\n",
    "from scipy.stats import describe\n",
    "\n",
    "v=np.random.normal(size=100)\n",
    "res=describe(v)\n",
    "\n",
    "print(res)"
   ]
  },
  {
   "cell_type": "markdown",
   "id": "0a215219",
   "metadata": {},
   "source": [
    "## NORMATLITY TESTS(Skewness and Kurtosis)\n",
    "\n",
    "\n",
    "Normality tests are based on the skewness and kurtosis\n",
    "The normality() function returns p value for the null hypothesis: \"x comes from a normal distribution\".\n",
    "\n",
    "## Skewness:\n",
    "A measure of symmetry in data.\n",
    "For normal distributions it is 0.\n",
    "If it is negative, it means the data is skewed left.\n",
    "If it is positive it means the data is skewed right.\n",
    "\n",
    "\n",
    "## Kurtosis:\n",
    "A measure of whether the data is heavy or lightly tailed to a normal distribution.\n",
    "Positive kurtosis means heavy tailed.\n",
    "Negative kurtosis means lightly tailed."
   ]
  },
  {
   "cell_type": "code",
   "execution_count": 6,
   "id": "aa1b11ee",
   "metadata": {},
   "outputs": [
    {
     "name": "stdout",
     "output_type": "stream",
     "text": [
      "skewness is: -0.12701064732162592\n",
      "kurtosis is: -0.20757549860200308\n"
     ]
    }
   ],
   "source": [
    "#EXAMPLE\n",
    "##Find the skewness and Kurtosis of values in an array:\n",
    "\n",
    "import numpy as np\n",
    "from scipy.stats import skew, kurtosis\n",
    "\n",
    "v=np.random.normal(size=100)\n",
    "\n",
    "print('skewness is: ' + str(skew(v)))\n",
    "print('kurtosis is: '+ str(kurtosis(v)))\n"
   ]
  },
  {
   "cell_type": "code",
   "execution_count": 12,
   "id": "61758452",
   "metadata": {},
   "outputs": [
    {
     "name": "stdout",
     "output_type": "stream",
     "text": [
      "result from normal test:  NormaltestResult(statistic=0.5965087872406404, pvalue=0.7421125270399798)\n"
     ]
    }
   ],
   "source": [
    "#EXample2\n",
    "#FIND IF THE DATA COMES FROM A NORMAL DISTRIBUTION\n",
    "\n",
    "import numpy as np\n",
    "from scipy.stats import normaltest\n",
    "\n",
    "v1=np.random.normal(size=100)\n",
    "print('result from normal test:  ' + str(normaltest(v1)))\n",
    "\n",
    "# print(normaltest(v1))"
   ]
  }
 ],
 "metadata": {
  "kernelspec": {
   "display_name": "Python 3 (ipykernel)",
   "language": "python",
   "name": "python3"
  },
  "language_info": {
   "codemirror_mode": {
    "name": "ipython",
    "version": 3
   },
   "file_extension": ".py",
   "mimetype": "text/x-python",
   "name": "python",
   "nbconvert_exporter": "python",
   "pygments_lexer": "ipython3",
   "version": "3.10.4"
  }
 },
 "nbformat": 4,
 "nbformat_minor": 5
}
