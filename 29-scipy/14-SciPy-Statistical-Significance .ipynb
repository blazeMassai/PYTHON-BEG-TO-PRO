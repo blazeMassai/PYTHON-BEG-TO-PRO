{
 "cells": [
  {
   "cell_type": "markdown",
   "id": "69e2db9f",
   "metadata": {},
   "source": [
    "## SciPy Statistical Significance Tests\n",
    "\n",
    "## What is Statistical Significance Test?\n",
    "\n",
    "In statistics, statistical significance means that the result that was produced has a reason behind it, it was\n",
    "not produced randomly, or by chance.\n",
    "SciPy provides us with a module called scipy.stats , which has functions for performing statistical\n",
    "significance tests.\n",
    "\n",
    "Here are some techniques and keywords that are important when performing such tests:\n",
    "\n",
    "1. Hypothesis in Statistics\n",
    "Hypothesis is an assumption about a parameter in population.\n",
    "\n",
    "\n",
    "2. Null Hypothesis\n",
    "It assumes that the observation is not stastically significant.\n",
    "\n",
    "3. Alternate Hypothesis\n",
    "It assumes that the observations are due to some reason.\n",
    "\n",
    "Its alternate to Null Hypothesis.\n",
    "Example:\n",
    "For an assessment of a student we would take:\n",
    "\"student is worse than average\" - as a null hypothesis, and:\n",
    "\"student is better than average\" - as an alternate hypothesis."
   ]
  },
  {
   "cell_type": "markdown",
   "id": "b747dd08",
   "metadata": {},
   "source": [
    "## One Tailed Test\n",
    "\n",
    "When our hypothesis is testing for one side of the value only, it is called \"one tailed test\".\n",
    "Example:\n",
    "For the null hypothesis:\n",
    "\"the mean is equal to k\", we can have alternate hypothesis:\n",
    "\"the mean is less than k\", or:\n",
    "\"the mean is greater than k\""
   ]
  },
  {
   "cell_type": "markdown",
   "id": "eedee9d0",
   "metadata": {},
   "source": [
    "## Two tailed test\n",
    "When our hypothesis is testing for both side of the values.\n",
    "Example:\n",
    "For the null hypothesis:\n",
    "\"the mean is equal to k\", we can have alternate hypothesis:\n",
    "\"the mean is not equal to k\"\n",
    "In this case the mean is less than, or greater than k, and both sides are to be checked"
   ]
  },
  {
   "cell_type": "markdown",
   "id": "82088811",
   "metadata": {},
   "source": [
    "## Alpha value\n",
    "Alpha value is the level of significance.\n",
    "Example:\n",
    "How close to extremes the data must be for null hypothesis to be rejected.\n",
    "It is usually taken as 0.01, 0.05, or 0.1."
   ]
  },
  {
   "cell_type": "markdown",
   "id": "e59ebf77",
   "metadata": {},
   "source": [
    "## P value\n",
    "P value tells how close to extreme the data actually is.\n",
    "P value and alpha values are compared to establish the statistical significance.\n",
    "If p value <= alpha we reject the null hypothesis and say that the data is statistically significant.\n",
    "otherwise we accept the null hypothesis."
   ]
  },
  {
   "cell_type": "markdown",
   "id": "de1bbe96",
   "metadata": {},
   "source": [
    "## T-Test\n",
    "\n",
    "T-tests are used to determine if there is significant deference between means of two variables. and lets us\n",
    "know if they belong to the same distribution.\n",
    "It is a two tailed test.\n",
    "The function ttest_ind( ) takes two samples of same size and produces a tuple of t-statistic and p-value."
   ]
  },
  {
   "cell_type": "code",
   "execution_count": 1,
   "id": "f2114f46",
   "metadata": {},
   "outputs": [
    {
     "name": "stdout",
     "output_type": "stream",
     "text": [
      "Ttest_indResult(statistic=-0.22935932134365025, pvalue=0.8188263987351363)\n"
     ]
    }
   ],
   "source": [
    "import numpy as np\n",
    "from scipy.stats import ttest_ind\n",
    "\n",
    "v1=np.random.normal(size=100)\n",
    "v2=np.random.normal(size=100)\n",
    "\n",
    "res=ttest_ind(v1, v2)\n",
    "\n",
    "#if u want the pvalue only \n",
    "res1=ttest_ind(v1, v2).pvalue\n",
    "\n",
    "print(res)\n",
    "print(res1)"
   ]
  },
  {
   "cell_type": "markdown",
   "id": "57df2035",
   "metadata": {},
   "source": [
    "## KS-TEST\n",
    "\n",
    "KS test is used to check if given values follow a distribution.\n",
    "The function takes the value to be tested, and the CDF as two parameters.\n",
    "\n",
    "It can be used as a one tailed or two tailed test.\n",
    "By default it is two tailed. We can pass parameter alternative as a string of one of two-sided, less, or\n",
    "greater.\n",
    "\n",
    "EXAMPLE:\n",
    "Find if the given value follows the normal distribution:"
   ]
  },
  {
   "cell_type": "code",
   "execution_count": 3,
   "id": "a0e452ab",
   "metadata": {},
   "outputs": [
    {
     "name": "stdout",
     "output_type": "stream",
     "text": [
      "KstestResult(statistic=0.0492053358536958, pvalue=0.9589772536650356)\n"
     ]
    }
   ],
   "source": [
    "import numpy as np\n",
    "from scipy.stats import kstest\n",
    "\n",
    "v=np.random.normal(size=100)\n",
    "res=kstest(v, 'norm')\n",
    "\n",
    "print(res)"
   ]
  }
 ],
 "metadata": {
  "kernelspec": {
   "display_name": "Python 3 (ipykernel)",
   "language": "python",
   "name": "python3"
  },
  "language_info": {
   "codemirror_mode": {
    "name": "ipython",
    "version": 3
   },
   "file_extension": ".py",
   "mimetype": "text/x-python",
   "name": "python",
   "nbconvert_exporter": "python",
   "pygments_lexer": "ipython3",
   "version": "3.10.4"
  }
 },
 "nbformat": 4,
 "nbformat_minor": 5
}
