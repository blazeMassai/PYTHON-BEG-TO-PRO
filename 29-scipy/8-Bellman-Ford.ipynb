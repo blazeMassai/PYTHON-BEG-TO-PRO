{
 "cells": [
  {
   "cell_type": "code",
   "execution_count": 1,
   "id": "58f0d98d",
   "metadata": {},
   "outputs": [],
   "source": [
    "#The bellman_ford( ) method can also find the shortest path between all pairs of elements, but this method\n",
    "# can handle negative weights as well"
   ]
  },
  {
   "cell_type": "code",
   "execution_count": 9,
   "id": "d856bd4b",
   "metadata": {},
   "outputs": [],
   "source": [
    "import numpy as np\n",
    "from scipy.sparse.csgraph import bellman_ford\n",
    "from scipy.sparse import csr_matrix"
   ]
  },
  {
   "cell_type": "code",
   "execution_count": 12,
   "id": "b3f59978",
   "metadata": {},
   "outputs": [
    {
     "name": "stdout",
     "output_type": "stream",
     "text": [
      "[0. 3. 7. 5.]\n"
     ]
    }
   ],
   "source": [
    "b=np.array([\n",
    "    [0, 3, 0, 5],\n",
    "    [2, 0, 0, 4],\n",
    "    [0, 1, 0, 0],\n",
    "    [0, 0, 2, 0]\n",
    "])\n",
    "\n",
    "new_b=csr_matrix(b)\n",
    "print(bellman_ford(new_b, return_predecessors=False, indices=0))"
   ]
  }
 ],
 "metadata": {
  "kernelspec": {
   "display_name": "Python 3 (ipykernel)",
   "language": "python",
   "name": "python3"
  },
  "language_info": {
   "codemirror_mode": {
    "name": "ipython",
    "version": 3
   },
   "file_extension": ".py",
   "mimetype": "text/x-python",
   "name": "python",
   "nbconvert_exporter": "python",
   "pygments_lexer": "ipython3",
   "version": "3.10.4"
  }
 },
 "nbformat": 4,
 "nbformat_minor": 5
}
