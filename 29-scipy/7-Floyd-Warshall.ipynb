{
 "cells": [
  {
   "cell_type": "code",
   "execution_count": null,
   "id": "02562264",
   "metadata": {},
   "outputs": [],
   "source": [
    "#Use the floyd_warshall( ) method to find shortest path between all pairs of elements. Negative elements aren't recognized"
   ]
  },
  {
   "cell_type": "code",
   "execution_count": 1,
   "id": "89b38d67",
   "metadata": {},
   "outputs": [
    {
     "name": "stdout",
     "output_type": "stream",
     "text": [
      "[[0. 3. 4. 1.]\n",
      " [5. 0. 1. 6.]\n",
      " [4. 7. 0. 5.]\n",
      " [7. 2. 3. 0.]]\n"
     ]
    }
   ],
   "source": [
    "import numpy as np\n",
    "from scipy.sparse.csgraph import floyd_warshall\n",
    "from scipy.sparse import csr_matrix\n",
    "\n",
    "a= np.array([\n",
    "    [0 , 8, 0 , 1 ],\n",
    "    [0 , 0 , 1, 0 ],\n",
    "    [4 , 0 , 0, 0 ],\n",
    "    [0 , 2 , 9, 0 ]\n",
    "])\n",
    "\n",
    "new_a = csr_matrix(a)\n",
    "print(floyd_warshall(new_a, return_predecessors=False))"
   ]
  },
  {
   "cell_type": "code",
   "execution_count": 3,
   "id": "fc3cc9f9",
   "metadata": {},
   "outputs": [
    {
     "name": "stdout",
     "output_type": "stream",
     "text": [
      "[[0. 3. 7. 5.]\n",
      " [2. 0. 6. 4.]\n",
      " [3. 1. 0. 5.]\n",
      " [5. 3. 2. 0.]]\n"
     ]
    }
   ],
   "source": [
    "b=np.array([\n",
    "    [0, 3, 0, 5],\n",
    "    [2, 0, 0, 4],\n",
    "    [0, 1, 0, 0],\n",
    "    [0, 0, 2, 0]\n",
    "])\n",
    "\n",
    "new_b=csr_matrix(b)\n",
    "print(floyd_warshall(new_b, return_predecessors=False))"
   ]
  }
 ],
 "metadata": {
  "kernelspec": {
   "display_name": "Python 3 (ipykernel)",
   "language": "python",
   "name": "python3"
  },
  "language_info": {
   "codemirror_mode": {
    "name": "ipython",
    "version": 3
   },
   "file_extension": ".py",
   "mimetype": "text/x-python",
   "name": "python",
   "nbconvert_exporter": "python",
   "pygments_lexer": "ipython3",
   "version": "3.10.4"
  },
  "vscode": {
   "interpreter": {
    "hash": "dd7e3228ebc810158347efa6997782aa0b57b7b77b50c779a97795fcc388f90d"
   }
  }
 },
 "nbformat": 4,
 "nbformat_minor": 5
}
