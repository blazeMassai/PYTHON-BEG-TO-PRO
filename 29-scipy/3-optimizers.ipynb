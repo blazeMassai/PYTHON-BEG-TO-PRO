{
 "cells": [
  {
   "cell_type": "markdown",
   "id": "9468bd1b",
   "metadata": {
    "pycharm": {
     "name": "#%% md\n"
    }
   },
   "source": [
    "#Optimizers are a set of procedures defined in SciPy that either find the minimum value of a function,\n",
    "#or the root of an equation.\n",
    "\n",
    "Roots of an Equation\n",
    "NumPy is capable of finding roots for polynomials and linear equations, but it can not find roots for non\n",
    "linear equations, like this one:\n",
    "\n",
    "x + cos(x)\n",
    "For that you can use SciPy's optimze.roo t function.\n",
    "This function takes two required arguments:\n",
    "fun - a function representing an equation.\n",
    "x0 - an initial guess for the root.\n",
    "The function returns an object with information regarding the solution.\n",
    "The actual solution is given under attribute x of the returned object:"
   ]
  },
  {
   "cell_type": "code",
   "execution_count": 1,
   "id": "e4fa88a8",
   "metadata": {
    "pycharm": {
     "name": "#%%\n"
    }
   },
   "outputs": [
    {
     "name": "stdout",
     "output_type": "stream",
     "text": [
      "[-0.73908513]\n",
      "    fjac: array([[-1.]])\n",
      "     fun: array([0.])\n",
      " message: 'The solution converged.'\n",
      "    nfev: 9\n",
      "     qtf: array([-2.66786593e-13])\n",
      "       r: array([-1.67361202])\n",
      "  status: 1\n",
      " success: True\n",
      "       x: array([-0.73908513])\n"
     ]
    }
   ],
   "source": [
    "#Find root of the equation x + cos(x )  \n",
    "from scipy.optimize import root\n",
    "from math import cos\n",
    "\n",
    "def eqn(x):\n",
    "    return x + cos(x)\n",
    "\n",
    "myroot = root(eqn, 0)\n",
    "\n",
    "print(myroot.x)\n",
    "print(myroot)"
   ]
  },
  {
   "cell_type": "markdown",
   "id": "17879266",
   "metadata": {
    "pycharm": {
     "name": "#%% md\n"
    }
   },
   "source": [
    "#MINIMIZING FUNCTION\n",
    "A function, in this context, represents a curve, curves have high points and low points .\n",
    "High points are called maxima .\n",
    "Low points are called minima .\n",
    "The highest point in the whole curve is called global maxima , whereas the rest of them are called local\n",
    "maxima .\n",
    "The lowest point in whole curve is called global minima , whereas the rest of them are called local minima"
   ]
  },
  {
   "cell_type": "markdown",
   "id": "f31c87d3",
   "metadata": {
    "pycharm": {
     "name": "#%% md\n"
    }
   },
   "source": [
    "We can use scipy.optimize.minimize( ) function to minimize the function.\n",
    "The minimize( ) function takes the following arguments:\n",
    "fun - a function representing an equation.\n",
    "x0 - an initial guess for the root.\n",
    "method - name of the method to use. Legal values:\n",
    "'CG'\n",
    "'BFGS'\n",
    "'Newton-CG'\n",
    "'L-BFGS-B'\n",
    "'TNC'\n",
    "'COBYLA'\n",
    "'SLSQP'\n",
    "callback - function called after each iteration of optimization.\n",
    "options - a dictionary defining extra params:\n",
    "{\n",
    "​ \"disp\": boolean - print detailed description\n",
    "​ \"gtol\": number - the tolerance of the error\n",
    "}"
   ]
  },
  {
   "cell_type": "code",
   "execution_count": 2,
   "id": "b1ca76d7",
   "metadata": {
    "pycharm": {
     "name": "#%%\n"
    }
   },
   "outputs": [
    {
     "name": "stdout",
     "output_type": "stream",
     "text": [
      "      fun: 1.75\n",
      " hess_inv: array([[0.50000001]])\n",
      "      jac: array([0.])\n",
      "  message: 'Optimization terminated successfully.'\n",
      "     nfev: 8\n",
      "      nit: 2\n",
      "     njev: 4\n",
      "   status: 0\n",
      "  success: True\n",
      "        x: array([-0.50000001])\n"
     ]
    }
   ],
   "source": [
    "#Minimize the function x^2 + x + 2 with BFG S :\n",
    "from scipy.optimize import minimize\n",
    "\n",
    "def eqn(x):\n",
    "    return x**2 + x + 2\n",
    "\n",
    "mymin=minimize(eqn, 0, method='BFGS')\n",
    "print(mymin)"
   ]
  },
  {
   "cell_type": "code",
   "execution_count": 3,
   "id": "5ca724b4",
   "metadata": {
    "scrolled": true,
    "pycharm": {
     "name": "#%%\n"
    }
   },
   "outputs": [
    {
     "name": "stdout",
     "output_type": "stream",
     "text": [
      "      fun: -6.25\n",
      " hess_inv: array([[0.50000001]])\n",
      "      jac: array([5.96046448e-08])\n",
      "  message: 'Optimization terminated successfully.'\n",
      "     nfev: 8\n",
      "      nit: 2\n",
      "     njev: 4\n",
      "   status: 0\n",
      "  success: True\n",
      "        x: array([0.50000001])\n"
     ]
    }
   ],
   "source": [
    "def eqn(x):\n",
    "    return x**2-x-6\n",
    "\n",
    "mini=minimize(eqn, 0, method='BFGS')\n",
    "print(mini)"
   ]
  },
  {
   "cell_type": "markdown",
   "id": "36019c4f",
   "metadata": {
    "pycharm": {
     "name": "#%% md\n"
    }
   },
   "source": [
    "# What is Sparse Data"
   ]
  },
  {
   "cell_type": "markdown",
   "id": "ca9f9c5b",
   "metadata": {
    "pycharm": {
     "name": "#%% md\n"
    }
   },
   "source": [
    "Sparse data is data that has mostly unused elements (elements that don't carry any information ).\n",
    "It can be an array like this one:\n",
    "[1, 0, 2, 0, 0, 3, 0, 0, 0, 0, 0, 0]\n",
    "Sparse Data: is a data set where most of the item values are zero.\n",
    "Dense Array: is the opposite of a sparse array: most of the values are not zero.\n",
    "\n",
    "SciPy has a module, scipy.sparse that provides functions to deal with sparse data.\n",
    "There are primarily two types of sparse matrices that we use:\n",
    "CSC - Compressed Sparse Column. For efficient arithmetic, fast column slicing.\n",
    "CSR - Compressed Sparse Row. For fast row slicing, faster matrix vector products"
   ]
  }
 ],
 "metadata": {
  "kernelspec": {
   "display_name": "Python 3 (ipykernel)",
   "language": "python",
   "name": "python3"
  },
  "language_info": {
   "codemirror_mode": {
    "name": "ipython",
    "version": 3
   },
   "file_extension": ".py",
   "mimetype": "text/x-python",
   "name": "python",
   "nbconvert_exporter": "python",
   "pygments_lexer": "ipython3",
   "version": "3.10.4"
  }
 },
 "nbformat": 4,
 "nbformat_minor": 5
}